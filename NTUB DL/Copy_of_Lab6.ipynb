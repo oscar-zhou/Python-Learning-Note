{
 "cells": [
  {
   "cell_type": "markdown",
   "metadata": {
    "colab_type": "text",
    "id": "mGaVzirvcvbm"
   },
   "source": [
    "# TensorFlow進階技巧"
   ]
  },
  {
   "cell_type": "code",
   "execution_count": null,
   "metadata": {
    "colab": {},
    "colab_type": "code",
    "id": "rtJJFetFcvbn"
   },
   "outputs": [],
   "source": [
    "import tensorflow as tf"
   ]
  },
  {
   "cell_type": "markdown",
   "metadata": {
    "colab_type": "text",
    "id": "_LXPKMS3cvbu"
   },
   "source": [
    "## Custom Layers\n",
    "透過繼承`tf.keras.layers.Layer`類別，來輕鬆創建字定義的網路層。\n",
    "\n",
    "你可以到https://www.tensorflow.org/api_docs/python/tf/keras/layers 官方API察看更多的網路層。"
   ]
  },
  {
   "cell_type": "markdown",
   "metadata": {
    "colab_type": "text",
    "id": "sFw_Q9Gxcvbv"
   },
   "source": [
    "Example: 簡單的客自化Convolutional layers。"
   ]
  },
  {
   "cell_type": "code",
   "execution_count": 2,
   "metadata": {
    "colab": {},
    "colab_type": "code",
    "id": "DvJ-FZtscvbw"
   },
   "outputs": [],
   "source": [
    "class CustomConv2D(tf.keras.layers.Layer):\n",
    "    def __init__(self, filters, kernel_size, strides=(1, 1), padding=\"VALID\", **kwargs):\n",
    "        super(CustomConv2D, self).__init__(**kwargs)\n",
    "        self.filters = filters\n",
    "        self.kernel_size = kernel_size\n",
    "        self.strides = (1, *strides, 1)\n",
    "        self.padding = padding\n",
    "\n",
    "    def build(self, input_shape):\n",
    "        kernel_h, kernel_w = self.kernel_size\n",
    "        input_dim = input_shape[-1]\n",
    "        # 創建卷積的權重值(weights)\n",
    "        self.w = self.add_weight(name='kernel', \n",
    "                                 shape=(kernel_h, kernel_w, input_dim, self.filters),\n",
    "                                 initializer='glorot_uniform',  # 設定初始化方法\n",
    "                                 trainable=True)  # 設定這個權重是否能夠訓練(更動)\n",
    "        # 創建卷積的偏差值(bias)\n",
    "        self.b = self.add_weight(name='bias', \n",
    "                                 shape=(self.filters,),\n",
    "                                 initializer='zeros',  # 設定初始化方法\n",
    "                                 trainable=True)  # 設定這個權重是否能夠訓練(更動)\n",
    "\n",
    "    def call(self, inputs):\n",
    "        x = tf.nn.conv2d(inputs, self.w, self.strides, padding=self.padding) # 卷積運算\n",
    "        x = tf.nn.bias_add(x, self.b)  # 加上偏差值\n",
    "        x = tf.nn.relu(x)  # 激活函數\n",
    "        return x\n",
    "\n",
    "    def get_config(self):\n",
    "        config = super().get_config().copy()\n",
    "        config.update({\n",
    "            'filters': self.filters,\n",
    "            'kernel_size': self.kernel_size,\n",
    "            'strides': self.strides,\n",
    "            'padding': self.padding,\n",
    "        })\n",
    "        return config"
   ]
  },
  {
   "cell_type": "markdown",
   "metadata": {
    "colab_type": "text",
    "id": "GiubOqo8cvb0"
   },
   "source": [
    "## Custom Loss\n",
    "\n",
    "在設計進階的研究方法或更深入解決問題時，TensorFlow官方文件所提供的損失函數，通常不夠使用，這時候你就必須自己定義損失函數，實作自己設計的損失函數。"
   ]
  },
  {
   "cell_type": "markdown",
   "metadata": {
    "colab_type": "text",
    "id": "XcdiCd-8cvb1"
   },
   "source": [
    "Example: 簡單的客自化Crossentropy Loss。"
   ]
  },
  {
   "cell_type": "code",
   "execution_count": 3,
   "metadata": {
    "colab": {},
    "colab_type": "code",
    "id": "7A-o_ROhcvb2",
    "scrolled": true
   },
   "outputs": [],
   "source": [
    "def custom_categorical_crossentropy(y_true, y_pred):\n",
    "    # x = tf.reduce_mean(-tf.reduce_sum(y_true * tf.log(y_pred), reduction_indices=[1]))\n",
    "    x = tf.nn.softmax_cross_entropy_with_logits(labels=y_true, logits=y_pred)\n",
    "    return x"
   ]
  },
  {
   "cell_type": "markdown",
   "metadata": {
    "colab_type": "text",
    "id": "115RcYptcvb7"
   },
   "source": [
    "## Custom Metrics\n",
    "\n",
    "如果你需要的指標函數官方API並沒有提供，你可以通過繼承`tf.keras.metrics.Metric`類別，來輕鬆創建自定義的指標函數。"
   ]
  },
  {
   "cell_type": "markdown",
   "metadata": {
    "colab_type": "text",
    "id": "yakcU2ircvb7"
   },
   "source": [
    "Example: 計算多少個樣本是正確分類的。"
   ]
  },
  {
   "cell_type": "code",
   "execution_count": 4,
   "metadata": {
    "colab": {},
    "colab_type": "code",
    "id": "liuwnrgtcvb8"
   },
   "outputs": [],
   "source": [
    "class CustomCategoricalAccuracy(tf.keras.metrics.Metric):\n",
    "    def __init__(self, name='custom_catrgorical_accuracy', **kwargs):\n",
    "        super(CustomCategoricalAccuracy, self).__init__(name=name, **kwargs)\n",
    "        # 記錄正確預測的數量\n",
    "        self.correct = self.add_weight('correct_numbers', initializer='zeros')\n",
    "        # 記錄全部資料的量數\n",
    "        self.total = self.add_weight('total_numbers', initializer='zeros')\n",
    "\n",
    "    def update_state(self, y_true, y_pred, sample_weight=None):\n",
    "        # 輸入答案為One-hot編碼，所以取最大的數值為答案\n",
    "        y_true = tf.argmax(y_true, axis=-1)\n",
    "        # 取預測輸出最大的數值為預測結果\n",
    "        y_pred = tf.argmax(y_pred, axis=-1)\n",
    "        # 比較預測結果是否正確，正確會返回True(正確)，錯誤會返回False(錯誤)\n",
    "        values = tf.equal(y_true, y_pred)\n",
    "        # 轉為浮點數True(正確)=1.0，False(錯誤)=0.0\n",
    "        values = tf.cast(values, tf.float32)\n",
    "        # 將values所有數值相加就會等於正確預測的總數\n",
    "        values_sum = tf.reduce_sum(values)\n",
    "        # 計算這個Batch的資料數量\n",
    "        num_values = tf.cast(tf.size(values), tf.float32)\n",
    "        self.correct.assign_add(values_sum)  # 更新正確預測的總數\n",
    "        self.total.assign_add(num_values)  # 更新資料量的總數\n",
    "\n",
    "    def result(self):\n",
    "        # 計算準確率\n",
    "        return tf.math.divide_no_nan(self.correct, self.total)\n",
    "\n",
    "    def reset_states(self):\n",
    "        # 每一次Epoch結束後會重新初始化變數\n",
    "        self.correct.assign(0.)\n",
    "        self.total.assign(0.)"
   ]
  },
  {
   "cell_type": "markdown",
   "metadata": {
    "colab_type": "text",
    "id": "bFOZQGwMcvb-"
   },
   "source": [
    "## Custom Callbacks\n",
    "\n",
    "如果你需要的監控或執行的操作官方的Callbacks函數沒有提供，你可以通過繼承`tf.keras.callbacks.Callback`類別，來輕鬆創建字定義的Callbacks函數。"
   ]
  },
  {
   "cell_type": "markdown",
   "metadata": {
    "colab_type": "text",
    "id": "DzQS0A8jcvb_"
   },
   "source": [
    "Example: 紀錄每一個batch的loss值。"
   ]
  },
  {
   "cell_type": "code",
   "execution_count": 5,
   "metadata": {
    "colab": {},
    "colab_type": "code",
    "id": "WcL6tjXAcvcA"
   },
   "outputs": [],
   "source": [
    "class SaveModel(tf.keras.callbacks.Callback):\n",
    "    def __init__(self, weights_file, monitor='loss', mode='min', save_weights_only=False):\n",
    "        super(SaveModel, self).__init__()\n",
    "        self.weights_file = weights_file\n",
    "        self.monitor = monitor\n",
    "        self.mode = mode\n",
    "        self.save_weights_only = save_weights_only\n",
    "        if mode == 'min':\n",
    "            self.best = np.Inf\n",
    "        else:\n",
    "            self.best = -np.Inf\n",
    "        \n",
    "    def save_model(self):\n",
    "        if self.save_weights_only:\n",
    "            self.model.save_weights(self.weights_file)\n",
    "        else:\n",
    "            self.model.save(self.weights_file)\n",
    "\n",
    "    def on_epoch_end(self, epoch, logs=None):\n",
    "        monitor_value = logs.get(self.monitor)\n",
    "        if self.mode == 'min' and monitor_value < self.best:\n",
    "            self.save_model()\n",
    "            self.best = monitor_value\n",
    "        elif self.mode == 'max' and monitor_value > self.best:\n",
    "            self.save_model()\n",
    "            self.best = monitor_value"
   ]
  },
  {
   "cell_type": "markdown",
   "metadata": {
    "colab_type": "text",
    "id": "g-3tAt0ZcvcC"
   },
   "source": [
    "# 實驗：比較Keras高階API和客製化API兩種網路訓練的結果"
   ]
  },
  {
   "cell_type": "markdown",
   "metadata": {
    "colab_type": "text",
    "id": "ibmJzyz0cvcD"
   },
   "source": [
    "### Import 必要套件"
   ]
  },
  {
   "cell_type": "code",
   "execution_count": 6,
   "metadata": {
    "colab": {},
    "colab_type": "code",
    "id": "yhu8j_eIcvcD"
   },
   "outputs": [],
   "source": [
    "import os\n",
    "import numpy as np\n",
    "import pandas as pd\n",
    "import tensorflow as tf\n",
    "from tensorflow import keras\n",
    "from tensorflow.keras import datasets, layers, models, initializers\n",
    "import matplotlib.pyplot as plt"
   ]
  },
  {
   "cell_type": "markdown",
   "metadata": {
    "colab_type": "text",
    "id": "-dhBHrnBcvcG"
   },
   "source": [
    "### Cifar 10\n",
    "載入Cifar10數據集"
   ]
  },
  {
   "cell_type": "code",
   "execution_count": 7,
   "metadata": {
    "colab": {},
    "colab_type": "code",
    "id": "vafLNkrZcvcH"
   },
   "outputs": [
    {
     "name": "stdout",
     "output_type": "stream",
     "text": [
      "Downloading data from https://www.cs.toronto.edu/~kriz/cifar-10-python.tar.gz\n",
      "170500096/170498071 [==============================] - 215s 1us/step\n"
     ]
    }
   ],
   "source": [
    "(train_images, train_labels), (test_images, test_labels) = datasets.cifar10.load_data()\n",
    "\n",
    "# Normalize pixel values to be between 0 and 1\n",
    "train_images, test_images = train_images / 255.0, test_images / 255.0\n",
    "train_labels = keras.utils.to_categorical(train_labels, 10)\n",
    "test_labels = keras.utils.to_categorical(test_labels, 10)"
   ]
  },
  {
   "cell_type": "markdown",
   "metadata": {
    "colab_type": "text",
    "id": "XSrzOyhjcvcJ"
   },
   "source": [
    "### Dataset 設定"
   ]
  },
  {
   "cell_type": "markdown",
   "metadata": {
    "colab_type": "text",
    "id": "uP3nQpnrcvcM"
   },
   "source": [
    "### 1. 使用Keras高階API訓練網路模型"
   ]
  },
  {
   "cell_type": "code",
   "execution_count": 8,
   "metadata": {
    "colab": {
     "base_uri": "https://localhost:8080/",
     "height": 518
    },
    "colab_type": "code",
    "id": "AEvx3HZucvcN",
    "outputId": "ebd0ce80-03f4-4ee3-e36d-49f6eba07c06"
   },
   "outputs": [
    {
     "name": "stdout",
     "output_type": "stream",
     "text": [
      "Model: \"model-1\"\n",
      "_________________________________________________________________\n",
      "Layer (type)                 Output Shape              Param #   \n",
      "=================================================================\n",
      "input_1 (InputLayer)         [(None, 32, 32, 3)]       0         \n",
      "_________________________________________________________________\n",
      "conv2d (Conv2D)              (None, 30, 30, 64)        1792      \n",
      "_________________________________________________________________\n",
      "max_pooling2d (MaxPooling2D) (None, 15, 15, 64)        0         \n",
      "_________________________________________________________________\n",
      "conv2d_1 (Conv2D)            (None, 13, 13, 128)       73856     \n",
      "_________________________________________________________________\n",
      "conv2d_2 (Conv2D)            (None, 11, 11, 256)       295168    \n",
      "_________________________________________________________________\n",
      "conv2d_3 (Conv2D)            (None, 9, 9, 128)         295040    \n",
      "_________________________________________________________________\n",
      "conv2d_4 (Conv2D)            (None, 7, 7, 64)          73792     \n",
      "_________________________________________________________________\n",
      "flatten (Flatten)            (None, 3136)              0         \n",
      "_________________________________________________________________\n",
      "dense (Dense)                (None, 64)                200768    \n",
      "_________________________________________________________________\n",
      "dropout (Dropout)            (None, 64)                0         \n",
      "_________________________________________________________________\n",
      "dense_1 (Dense)              (None, 10)                650       \n",
      "=================================================================\n",
      "Total params: 941,066\n",
      "Trainable params: 941,066\n",
      "Non-trainable params: 0\n",
      "_________________________________________________________________\n"
     ]
    }
   ],
   "source": [
    "inputs = keras.Input(shape=(32, 32, 3))\n",
    "x = layers.Conv2D(64, 3, activation='relu', kernel_initializer='glorot_uniform')(inputs)\n",
    "x = layers.MaxPool2D()(x)\n",
    "x = layers.Conv2D(128, 3, activation='relu', kernel_initializer='glorot_uniform')(x)\n",
    "x = layers.Conv2D(256, 3, activation='relu', kernel_initializer='glorot_uniform')(x)\n",
    "x = layers.Conv2D(128, 3, activation='relu', kernel_initializer='glorot_uniform')(x)\n",
    "x = layers.Conv2D(64, 3, activation='relu', kernel_initializer='glorot_uniform')(x)\n",
    "x = layers.Flatten()(x)\n",
    "x = layers.Dense(64, activation='relu')(x)\n",
    "x = layers.Dropout(0.5)(x)\n",
    "outputs = layers.Dense(10)(x)\n",
    "# 建立網路模型(將輸入到輸出所有經過的網路層連接起來)\n",
    "model_1 = keras.Model(inputs, outputs, name='model-1')\n",
    "model_1.summary()"
   ]
  },
  {
   "cell_type": "markdown",
   "metadata": {
    "colab_type": "text",
    "id": "A1QkZsOUcvcR"
   },
   "source": [
    "建立Callback function"
   ]
  },
  {
   "cell_type": "code",
   "execution_count": 9,
   "metadata": {
    "colab": {},
    "colab_type": "code",
    "id": "p7s5vzK8cvcR"
   },
   "outputs": [],
   "source": [
    "# 儲存訓練記錄檔\n",
    "logs_dirs = 'lab6-logs'\n",
    "model_cbk = keras.callbacks.TensorBoard(log_dir='lab6-logs')\n",
    "\n",
    "# 紀錄每一個batch的Loss值變化\n",
    "model_dirs = logs_dirs + '/models'\n",
    "os.makedirs(model_dirs, exist_ok=True)\n",
    "save_model = tf.keras.callbacks.ModelCheckpoint(model_dirs + '/save.h5', \n",
    "                                                monitor='val_catrgorical_accuracy', \n",
    "                                                mode='max')"
   ]
  },
  {
   "cell_type": "markdown",
   "metadata": {
    "colab_type": "text",
    "id": "spuCHquWcvcU"
   },
   "source": [
    "設定訓練使用的優化器、客自化損失函數和客自化指標函數："
   ]
  },
  {
   "cell_type": "code",
   "execution_count": 10,
   "metadata": {
    "colab": {},
    "colab_type": "code",
    "id": "5KixXCmYcvcU"
   },
   "outputs": [],
   "source": [
    "# 設定訓練使用的優化器、損失函數和指標函數\n",
    "model_1.compile(keras.optimizers.Adam(), \n",
    "                loss=keras.losses.CategoricalCrossentropy(from_logits=True), \n",
    "                metrics=[keras.metrics.CategoricalAccuracy()])\n"
   ]
  },
  {
   "cell_type": "code",
   "execution_count": 11,
   "metadata": {
    "colab": {},
    "colab_type": "code",
    "id": "RS9N84Ebx8cA"
   },
   "outputs": [],
   "source": [
    "train_labels.shape\n",
    "train_labels = np.reshape(train_labels, (train_labels.shape[0], 10))"
   ]
  },
  {
   "cell_type": "code",
   "execution_count": null,
   "metadata": {
    "colab": {
     "base_uri": "https://localhost:8080/",
     "height": 368
    },
    "colab_type": "code",
    "id": "t97zGhKAcvcW",
    "outputId": "00338a9a-8cdc-42e1-d2fa-735c2ffc65f8",
    "scrolled": true
   },
   "outputs": [
    {
     "name": "stdout",
     "output_type": "stream",
     "text": [
      "Train on 49900 samples, validate on 100 samples\n",
      "Epoch 1/10\n",
      "44928/49900 [==========================>...] - ETA: 27s - loss: 1.9730 - categorical_accuracy: 0.2419"
     ]
    }
   ],
   "source": [
    "# 訓練網路模型\n",
    "model_1.fit(train_images[100:], train_labels[100:],\n",
    "            epochs=10,\n",
    "            validation_data=(train_images[:100], train_labels[:100]),\n",
    "            callbacks=[model_cbk, save_model])"
   ]
  },
  {
   "cell_type": "markdown",
   "metadata": {
    "colab_type": "text",
    "id": "-RQPFD_IcvcZ"
   },
   "source": [
    "### 2. 使用客自化API訓練網路模型"
   ]
  },
  {
   "cell_type": "markdown",
   "metadata": {
    "colab_type": "text",
    "id": "Hj5NHkN-cvca"
   },
   "source": [
    "- Custom Layer：將原本的Conv2d改成CustomConv2D。\n",
    "- Custom Loss：將原本的CategoricalCrossentropy改成custom_loss。\n",
    "- Custom Metrics：加入一個新的指標函數CatgoricalTruePositives。\n",
    "- Custom Callbacks：紀錄每一個batch的Loss值變化。"
   ]
  },
  {
   "cell_type": "code",
   "execution_count": null,
   "metadata": {
    "colab": {
     "base_uri": "https://localhost:8080/",
     "height": 518
    },
    "colab_type": "code",
    "id": "CTvjcfIH03hb",
    "outputId": "9c0e226f-7ade-4941-dd97-54c79340c3fc"
   },
   "outputs": [],
   "source": [
    "model_2 = models.Sequential()\n",
    "model_2.add(layers.InputLayer(input_shape=(32, 32, 3)))\n",
    "model_2.add(CustomConv2D(64, (3, 3)))\n",
    "model_2.add(layers.MaxPool2D())\n",
    "model_2.add(CustomConv2D(128, (3, 3)))\n",
    "model_2.add(CustomConv2D(256, (3, 3)))\n",
    "model_2.add(CustomConv2D(128, (3, 3)))\n",
    "model_2.add(CustomConv2D(64, (3, 3)))\n",
    "model_2.add(layers.Flatten())\n",
    "model_2.add(layers.Dense(64))\n",
    "model_2.add(layers.Activation('relu'))\n",
    "model_2.add(layers.Dropout(0.5))\n",
    "model_2.add(layers.Dense(10))\n",
    "model_2.summary()"
   ]
  },
  {
   "cell_type": "code",
   "execution_count": null,
   "metadata": {
    "colab": {},
    "colab_type": "code",
    "id": "qTF3R0HWcvcc"
   },
   "outputs": [],
   "source": [
    "# 儲存訓練記錄檔\n",
    "logs_dirs = 'lab6-logs'\n",
    "model_cbk = keras.callbacks.TensorBoard(log_dir='lab6-logs')\n",
    "\n",
    "# 紀錄每一個batch的Loss值變化\n",
    "model_dirs = logs_dirs + '/models'\n",
    "os.makedirs(model_dirs, exist_ok=True)\n",
    "custom_save_model = SaveModel(model_dirs + '/custom_save.h5', \n",
    "                              monitor='val_custom_catrgorical_accuracy', \n",
    "                              mode='max', \n",
    "                              save_weights_only=True)"
   ]
  },
  {
   "cell_type": "code",
   "execution_count": null,
   "metadata": {
    "colab": {
     "base_uri": "https://localhost:8080/",
     "height": 388
    },
    "colab_type": "code",
    "id": "14Zrwpwacvcf",
    "outputId": "7e7b065a-5534-4f0f-a85b-db4aaba7601c"
   },
   "outputs": [],
   "source": [
    "# 設定訓練使用的優化器、損失函數和指標函數\n",
    "model_2.compile(keras.optimizers.Adam(), \n",
    "           loss=custom_categorical_crossentropy, \n",
    "           metrics=[CustomCategoricalAccuracy()])\n",
    "\n",
    "# 訓練網路模型\n",
    "model_2.fit(train_images[100:], train_labels[100:],\n",
    "            epochs=10,\n",
    "            validation_data=(train_images[:100], train_labels[:100]),\n",
    "            callbacks=[model_cbk, custom_save_model])"
   ]
  },
  {
   "cell_type": "markdown",
   "metadata": {
    "colab_type": "text",
    "id": "krhhdBwlcvci"
   },
   "source": [
    "### 比較兩種方法的訓練結果"
   ]
  },
  {
   "cell_type": "markdown",
   "metadata": {
    "colab_type": "text",
    "id": "1ly8s3Uvcvci"
   },
   "source": [
    "載入兩種方法的模型權重："
   ]
  },
  {
   "cell_type": "code",
   "execution_count": null,
   "metadata": {
    "colab": {},
    "colab_type": "code",
    "id": "7wS1U1xScvcj"
   },
   "outputs": [],
   "source": [
    "model_1.load_weights(model_dirs+'/save.h5')\n",
    "model_2.load_weights(model_dirs+'/custom_save.h5')"
   ]
  },
  {
   "cell_type": "markdown",
   "metadata": {
    "colab_type": "text",
    "id": "ZrnLTQFgcvcl"
   },
   "source": [
    "驗證網路模型："
   ]
  },
  {
   "cell_type": "code",
   "execution_count": null,
   "metadata": {
    "colab": {
     "base_uri": "https://localhost:8080/",
     "height": 140
    },
    "colab_type": "code",
    "id": "GTEzSjdvcvcl",
    "outputId": "71404124-fc0d-460f-c5bd-92efea213575"
   },
   "outputs": [],
   "source": [
    "loss_1, acc_1 = model_1.evaluate(test_images, test_labels)\n",
    "loss_2, acc_2 = model_2.evaluate(test_images, test_labels)\n",
    "loss = [loss_1, loss_2]  \n",
    "acc = [acc_1, acc_2]\n",
    "dict = {\"Loss\": loss, \"Accuracy\": acc}\n",
    "pd.DataFrame(dict)"
   ]
  }
 ],
 "metadata": {
  "accelerator": "GPU",
  "colab": {
   "collapsed_sections": [],
   "name": "Copy of Lab6.ipynb",
   "provenance": []
  },
  "kernelspec": {
   "display_name": "Python 3",
   "language": "python",
   "name": "python3"
  },
  "language_info": {
   "codemirror_mode": {
    "name": "ipython",
    "version": 3
   },
   "file_extension": ".py",
   "mimetype": "text/x-python",
   "name": "python",
   "nbconvert_exporter": "python",
   "pygments_lexer": "ipython3",
   "version": "3.7.4"
  },
  "pycharm": {
   "stem_cell": {
    "cell_type": "raw",
    "metadata": {
     "collapsed": false
    },
    "source": []
   }
  }
 },
 "nbformat": 4,
 "nbformat_minor": 1
}
