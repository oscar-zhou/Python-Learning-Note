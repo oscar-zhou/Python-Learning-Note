{
 "cells": [
  {
   "cell_type": "code",
   "execution_count": 1,
   "metadata": {},
   "outputs": [
    {
     "data": {
      "text/plain": [
       "2"
      ]
     },
     "execution_count": 1,
     "metadata": {},
     "output_type": "execute_result"
    }
   ],
   "source": [
    "1+1"
   ]
  },
  {
   "cell_type": "code",
   "execution_count": 5,
   "metadata": {},
   "outputs": [
    {
     "ename": "SyntaxError",
     "evalue": "invalid syntax (<ipython-input-5-25e27520f23f>, line 16)",
     "output_type": "error",
     "traceback": [
      "\u001b[0;36m  File \u001b[0;32m\"<ipython-input-5-25e27520f23f>\"\u001b[0;36m, line \u001b[0;32m16\u001b[0m\n\u001b[0;31m    except:\u001b[0m\n\u001b[0m         ^\u001b[0m\n\u001b[0;31mSyntaxError\u001b[0m\u001b[0;31m:\u001b[0m invalid syntax\n"
     ]
    }
   ],
   "source": [
    "import random\n",
    "answer = random.randint( minN, maxN )\n",
    "guess = -1\n",
    "minN = 1\n",
    "maxN = 1000\n",
    "hist = []\n",
    "while guess != answer:\n",
    "    print( minN, \"到\", maxN, \"之間\")\n",
    "    while True:\n",
    "        try:\n",
    "            guess = int(input(\"請猜數字:\"))\n",
    "            if guess > minN and guess < maxN:\n",
    "                hist.append(guess)\n",
    "                break\n",
    "                 print(\"請不要亂輸入\")\n",
    "            except:\n",
    "                 print(\"請不要亂輸入\")\n",
    "    if guess < answer:\n",
    "            print(\"大一點！\")\n",
    "            #print(\"大一點\")\n",
    "            minN = guess\n",
    "    elif guess > answer:\n",
    "            print(\"小一點\")\n",
    "            #print(\"小一點\")\n",
    "            maxN = guess\n",
    "    else:\n",
    "            print(\"答對了！\")\n",
    "            for g in hist:\n",
    "                print(g)\n",
    "\n",
    "print(guess)"
   ]
  }
 ],
 "metadata": {
  "kernelspec": {
   "display_name": "Python 3",
   "language": "python",
   "name": "python3"
  },
  "language_info": {
   "codemirror_mode": {
    "name": "ipython",
    "version": 3
   },
   "file_extension": ".py",
   "mimetype": "text/x-python",
   "name": "python",
   "nbconvert_exporter": "python",
   "pygments_lexer": "ipython3",
   "version": "3.7.9"
  }
 },
 "nbformat": 4,
 "nbformat_minor": 4
}
