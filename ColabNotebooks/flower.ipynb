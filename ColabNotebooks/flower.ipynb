{
 "cells": [
  {
   "cell_type": "code",
   "execution_count": 1,
   "metadata": {
    "colab": {},
    "colab_type": "code",
    "id": "Auw8QzbrsCp0"
   },
   "outputs": [
    {
     "ename": "ModuleNotFoundError",
     "evalue": "No module named 'tensorflow_datasets'",
     "output_type": "error",
     "traceback": [
      "\u001b[0;31m---------------------------------------------------------------------------\u001b[0m",
      "\u001b[0;31mModuleNotFoundError\u001b[0m                       Traceback (most recent call last)",
      "\u001b[0;32m<ipython-input-1-1a4cb2115aab>\u001b[0m in \u001b[0;36m<module>\u001b[0;34m\u001b[0m\n\u001b[1;32m      1\u001b[0m \u001b[0;32mimport\u001b[0m \u001b[0mtensorflow\u001b[0m \u001b[0;32mas\u001b[0m \u001b[0mtf\u001b[0m\u001b[0;34m\u001b[0m\u001b[0;34m\u001b[0m\u001b[0m\n\u001b[0;32m----> 2\u001b[0;31m \u001b[0;32mimport\u001b[0m \u001b[0mtensorflow_datasets\u001b[0m \u001b[0;32mas\u001b[0m \u001b[0mtfds\u001b[0m\u001b[0;34m\u001b[0m\u001b[0;34m\u001b[0m\u001b[0m\n\u001b[0m\u001b[1;32m      3\u001b[0m \u001b[0;32mfrom\u001b[0m \u001b[0mtensorflow\u001b[0m\u001b[0;34m.\u001b[0m\u001b[0mkeras\u001b[0m \u001b[0;32mimport\u001b[0m \u001b[0mlayers\u001b[0m\u001b[0;34m\u001b[0m\u001b[0;34m\u001b[0m\u001b[0m\n\u001b[1;32m      4\u001b[0m \u001b[0;32mfrom\u001b[0m \u001b[0mtensorflow\u001b[0m\u001b[0;34m.\u001b[0m\u001b[0mkeras\u001b[0m\u001b[0;34m.\u001b[0m\u001b[0mmodels\u001b[0m \u001b[0;32mimport\u001b[0m \u001b[0mSequential\u001b[0m\u001b[0;34m\u001b[0m\u001b[0;34m\u001b[0m\u001b[0m\n\u001b[1;32m      5\u001b[0m \u001b[0;32mfrom\u001b[0m \u001b[0mtensorflow\u001b[0m\u001b[0;34m.\u001b[0m\u001b[0mkeras\u001b[0m\u001b[0;34m.\u001b[0m\u001b[0mlayers\u001b[0m \u001b[0;32mimport\u001b[0m \u001b[0mDense\u001b[0m\u001b[0;34m,\u001b[0m \u001b[0mConv2D\u001b[0m\u001b[0;34m,\u001b[0m \u001b[0mFlatten\u001b[0m\u001b[0;34m,\u001b[0m \u001b[0mDropout\u001b[0m\u001b[0;34m,\u001b[0m \u001b[0mMaxPooling2D\u001b[0m\u001b[0;34m,\u001b[0m \u001b[0mBatchNormalization\u001b[0m\u001b[0;34m\u001b[0m\u001b[0;34m\u001b[0m\u001b[0m\n",
      "\u001b[0;31mModuleNotFoundError\u001b[0m: No module named 'tensorflow_datasets'"
     ]
    }
   ],
   "source": [
    "import tensorflow as tf\n",
    "import tensorflow_datasets as tfds\n",
    "from tensorflow.keras import layers\n",
    "from tensorflow.keras.models import Sequential\n",
    "from tensorflow.keras.layers import Dense, Conv2D, Flatten, Dropout, MaxPooling2D, BatchNormalization\n",
    "\n",
    "import matplotlib.pyplot as plt\n",
    "from sklearn.metrics import confusion_matrix\n",
    "import numpy as np\n",
    "import cv2\n",
    "import datetime"
   ]
  },
  {
   "cell_type": "code",
   "execution_count": null,
   "metadata": {
    "colab": {
     "base_uri": "https://localhost:8080/",
     "height": 1000
    },
    "colab_type": "code",
    "executionInfo": {
     "elapsed": 1020,
     "status": "ok",
     "timestamp": 1592276526044,
     "user": {
      "displayName": "周育德",
      "photoUrl": "",
      "userId": "03851540063312078708"
     },
     "user_tz": -480
    },
    "id": "G4NyjfBHsK7D",
    "outputId": "23faed29-e0d5-47b1-a54c-8fead93f8177"
   },
   "outputs": [],
   "source": [
    "tfds.list_builders()"
   ]
  },
  {
   "cell_type": "code",
   "execution_count": null,
   "metadata": {
    "colab": {
     "base_uri": "https://localhost:8080/",
     "height": 267,
     "referenced_widgets": [
      "9650b36331c840ba96e98f49fc465603",
      "e579c551d9af4031a903203f764b83aa",
      "9757960ad7454a20bc9f32c821a5d88a",
      "93196e4bb5344b33beaa465b5a51bf5e",
      "79f1b08cbfb440efbffa17c80eea56d9",
      "d2814ebfe9594367b238894a2ae1d9b9",
      "7700236f4ed74a48999cf835b460e31e",
      "fb61266b0c864c3383c5e9ec7d9f48b0"
     ]
    },
    "colab_type": "code",
    "executionInfo": {
     "elapsed": 6437,
     "status": "ok",
     "timestamp": 1592277449534,
     "user": {
      "displayName": "周育德",
      "photoUrl": "",
      "userId": "03851540063312078708"
     },
     "user_tz": -480
    },
    "id": "Q1hpRrbtsOw1",
    "outputId": "bcf38950-b231-41bb-a74e-0f5007cee52e"
   },
   "outputs": [],
   "source": [
    "(ds_train, ds_valid, ds_test), ds_info = tfds.load('tf_flowers', split=['train[:80%]', 'train[80%:90%]', 'train[10%:]'], data_dir='./', as_supervised=True,  with_info=True)# returns `(img, label)` instead of dict(image=, ...))\n",
    "print('Train %d\\nvalid %d\\ntest %d'%(ds_info.splits['train[:80%]'].num_examples, \n",
    "                                           ds_info.splits['train[80%:90%]'].num_examples, \n",
    "                                           ds_info.splits['train[10%:]'].num_examples))"
   ]
  },
  {
   "cell_type": "code",
   "execution_count": 25,
   "metadata": {
    "colab": {
     "base_uri": "https://localhost:8080/",
     "height": 417
    },
    "colab_type": "code",
    "executionInfo": {
     "elapsed": 928,
     "status": "ok",
     "timestamp": 1592277451364,
     "user": {
      "displayName": "周育德",
      "photoUrl": "",
      "userId": "03851540063312078708"
     },
     "user_tz": -480
    },
    "id": "Z2Bk13m5sR-1",
    "outputId": "4feb98aa-8a95-43a5-8ce5-8e04ddc1b384"
   },
   "outputs": [
    {
     "data": {
      "text/plain": [
       "tfds.core.DatasetInfo(\n",
       "    name='tf_flowers',\n",
       "    version=3.0.0,\n",
       "    description='A large set of images of flowers',\n",
       "    homepage='https://www.tensorflow.org/tutorials/load_data/images',\n",
       "    features=FeaturesDict({\n",
       "        'image': Image(shape=(None, None, 3), dtype=tf.uint8),\n",
       "        'label': ClassLabel(shape=(), dtype=tf.int64, num_classes=5),\n",
       "    }),\n",
       "    total_num_examples=3670,\n",
       "    splits={\n",
       "        'train': 3670,\n",
       "    },\n",
       "    supervised_keys=('image', 'label'),\n",
       "    citation=\"\"\"@ONLINE {tfflowers,\n",
       "    author = \"The TensorFlow Team\",\n",
       "    title = \"Flowers\",\n",
       "    month = \"jan\",\n",
       "    year = \"2019\",\n",
       "    url = \"http://download.tensorflow.org/example_images/flower_photos.tgz\" }\"\"\",\n",
       "    redistribution_info=,\n",
       ")"
      ]
     },
     "execution_count": 25,
     "metadata": {
      "tags": []
     },
     "output_type": "execute_result"
    }
   ],
   "source": [
    "ds_info"
   ]
  },
  {
   "cell_type": "code",
   "execution_count": 26,
   "metadata": {
    "colab": {
     "base_uri": "https://localhost:8080/",
     "height": 35
    },
    "colab_type": "code",
    "executionInfo": {
     "elapsed": 888,
     "status": "ok",
     "timestamp": 1592277453066,
     "user": {
      "displayName": "周育德",
      "photoUrl": "",
      "userId": "03851540063312078708"
     },
     "user_tz": -480
    },
    "id": "iko7TqYwtAa1",
    "outputId": "656a63f8-4018-4a70-c033-c5193a9f3af4"
   },
   "outputs": [
    {
     "name": "stdout",
     "output_type": "stream",
     "text": [
      "Total flower breed: 5\n"
     ]
    }
   ],
   "source": [
    "class_num = ds_info.features['label'].num_classes\n",
    "print(\"Total flower breed: %d\" %(class_num))"
   ]
  },
  {
   "cell_type": "code",
   "execution_count": 29,
   "metadata": {
    "colab": {
     "base_uri": "https://localhost:8080/",
     "height": 54
    },
    "colab_type": "code",
    "executionInfo": {
     "elapsed": 1019,
     "status": "ok",
     "timestamp": 1592277486138,
     "user": {
      "displayName": "周育德",
      "photoUrl": "",
      "userId": "03851540063312078708"
     },
     "user_tz": -480
    },
    "id": "rF5c4mRetL5H",
    "outputId": "7d944d58-5b69-4c29-adf0-a552726c5d1a"
   },
   "outputs": [
    {
     "name": "stdout",
     "output_type": "stream",
     "text": [
      "Total category: 5\n",
      "['dandelion', 'daisy', 'tulips', 'sunflowers', 'roses']\n"
     ]
    }
   ],
   "source": [
    "breed_category = []\n",
    "with open('tf_flowers/3.0.0/label.labels.txt', 'r') as file:\n",
    "  for line in file:\n",
    "    breed_name = line.split('-')[0]\n",
    "    breed_name = breed_name.strip('\\n')\n",
    "    breed_category.append(breed_name)\n",
    "\n",
    "print(\"Total category: {}\\n{}\".format(len(breed_category), breed_category))"
   ]
  },
  {
   "cell_type": "code",
   "execution_count": 30,
   "metadata": {
    "colab": {
     "base_uri": "https://localhost:8080/",
     "height": 108
    },
    "colab_type": "code",
    "executionInfo": {
     "elapsed": 1031,
     "status": "ok",
     "timestamp": 1592277495896,
     "user": {
      "displayName": "周育德",
      "photoUrl": "",
      "userId": "03851540063312078708"
     },
     "user_tz": -480
    },
    "id": "86VU_7F0tO0X",
    "outputId": "62695c4f-1167-410a-9749-763d17ac4f59"
   },
   "outputs": [
    {
     "name": "stdout",
     "output_type": "stream",
     "text": [
      "(333, 500, 3) tf.Tensor(2, shape=(), dtype=int64)\n",
      "(212, 320, 3) tf.Tensor(3, shape=(), dtype=int64)\n",
      "(240, 320, 3) tf.Tensor(3, shape=(), dtype=int64)\n",
      "(240, 320, 3) tf.Tensor(4, shape=(), dtype=int64)\n",
      "(317, 500, 3) tf.Tensor(3, shape=(), dtype=int64)\n"
     ]
    }
   ],
   "source": [
    "tt = ds_train.take(5)\n",
    "\n",
    "for image, label in tt:  # example is (image, label)\n",
    "  print(image.shape, label)"
   ]
  },
  {
   "cell_type": "code",
   "execution_count": 31,
   "metadata": {
    "colab": {
     "base_uri": "https://localhost:8080/",
     "height": 1000,
     "output_embedded_package_id": "1MNU38W6vDzA0LGd8GMl4n7ALeeYn_5YO"
    },
    "colab_type": "code",
    "executionInfo": {
     "elapsed": 16217,
     "status": "ok",
     "timestamp": 1592277518384,
     "user": {
      "displayName": "周育德",
      "photoUrl": "",
      "userId": "03851540063312078708"
     },
     "user_tz": -480
    },
    "id": "fNwUSL0VtVce",
    "outputId": "82661607-5742-4901-b241-3aa6b35f32bd"
   },
   "outputs": [
    {
     "data": {
      "text/plain": [
       "Output hidden; open in https://colab.research.google.com to view."
      ]
     },
     "metadata": {},
     "output_type": "display_data"
    }
   ],
   "source": [
    "def show_dataset_img(tf_data, breed_category, num=6):\n",
    "  img_list = tf_data.take(num)\n",
    "  fig, axes = plt.subplots(3, 2, figsize=(20,20))\n",
    "  axes = axes.flatten()\n",
    "  for (img, label), ax in zip(img_list, axes):\n",
    "      ax.imshow(img)\n",
    "      ax.set_title(breed_category[label.numpy()])\n",
    "      ax.axis('off')\n",
    "  plt.tight_layout()\n",
    "  plt.show()\n",
    "\n",
    "show_dataset_img(ds_train, breed_category=breed_category)"
   ]
  },
  {
   "cell_type": "code",
   "execution_count": 0,
   "metadata": {
    "colab": {},
    "colab_type": "code",
    "id": "DgTz96X7tfgY"
   },
   "outputs": [],
   "source": [
    "# def normalize_img(image, label):\n",
    "#   \"\"\"Normalizes images: `uint8` -> `float32`.\"\"\"\n",
    "#   return tf.cast(image, tf.float32) / 255., label\n",
    "\n",
    "IMAGE_SIZE = 256\n",
    "def convert(image, label):\n",
    "  '''\n",
    "  影像轉換\n",
    "  '''\n",
    "  image = tf.cast(image, tf.float32)\n",
    "  image = image / 255.0\n",
    "  image = tf.image.resize(image, (IMAGE_SIZE, IMAGE_SIZE))\n",
    "  # label = tf.one_hot(label, class_num)\n",
    "  return image, label"
   ]
  },
  {
   "cell_type": "code",
   "execution_count": 0,
   "metadata": {
    "colab": {},
    "colab_type": "code",
    "id": "kvN9cLcftpxi"
   },
   "outputs": [],
   "source": [
    "batch_size = 64"
   ]
  },
  {
   "cell_type": "code",
   "execution_count": 0,
   "metadata": {
    "colab": {},
    "colab_type": "code",
    "id": "1oM8YG_-3T5y"
   },
   "outputs": [],
   "source": [
    "train_batches = (\n",
    "    ds_train\n",
    "    # Only train on a subset, so you can quickly see the effect.\n",
    "    .take(ds_info.splits['train[:80%]'].num_examples)  ## 一次抓取 train 全部資料\n",
    "    .cache()\n",
    "    .shuffle(ds_info.splits['train[:80%]'].num_examples)  ## 進行亂數\n",
    "    # The augmentation is added here.\n",
    "    .map(convert, num_parallel_calls=tf.data.experimental.AUTOTUNE)  ## 將影像資料進行處理\n",
    "    .batch(batch_size)    ## 每次執行會輸出 batch size 數量\n",
    "    .prefetch(tf.data.experimental.AUTOTUNE)\n",
    ") \n",
    "\n",
    "validation_batches = (\n",
    "    ds_valid\n",
    "    .map(convert, num_parallel_calls=tf.data.experimental.AUTOTUNE)\n",
    "    .batch(batch_size)\n",
    ")\n",
    "\n",
    "test_batches = (\n",
    "    ds_test\n",
    "    # Only train on a subset, so you can quickly see the effect.\n",
    "    .take(ds_info.splits['train[10%:]'].num_examples)\n",
    "    .cache()\n",
    "    .shuffle(ds_info.splits['train[10%:]'].num_examples)\n",
    "    # The augmentation is added here.\n",
    "    .map(convert, num_parallel_calls=tf.data.experimental.AUTOTUNE)\n",
    "    .batch(batch_size)\n",
    "    .prefetch(tf.data.experimental.AUTOTUNE)\n",
    ") "
   ]
  },
  {
   "cell_type": "markdown",
   "metadata": {
    "colab_type": "text",
    "id": "bom1QS-338EN"
   },
   "source": [
    "# Pre-train Model"
   ]
  },
  {
   "cell_type": "code",
   "execution_count": 36,
   "metadata": {
    "colab": {
     "base_uri": "https://localhost:8080/",
     "height": 1000
    },
    "colab_type": "code",
    "executionInfo": {
     "elapsed": 4360,
     "status": "ok",
     "timestamp": 1592277661377,
     "user": {
      "displayName": "周育德",
      "photoUrl": "",
      "userId": "03851540063312078708"
     },
     "user_tz": -480
    },
    "id": "tAnDw-ZH3XD0",
    "outputId": "6b3f4d15-ffc1-446c-82ca-070c72d7316d"
   },
   "outputs": [
    {
     "name": "stdout",
     "output_type": "stream",
     "text": [
      "WARNING:tensorflow:`input_shape` is undefined or non-square, or `rows` is not in [96, 128, 160, 192, 224]. Weights for input shape (224, 224) will be loaded as the default.\n"
     ]
    },
    {
     "name": "stderr",
     "output_type": "stream",
     "text": [
      "WARNING:tensorflow:`input_shape` is undefined or non-square, or `rows` is not in [96, 128, 160, 192, 224]. Weights for input shape (224, 224) will be loaded as the default.\n"
     ]
    },
    {
     "name": "stdout",
     "output_type": "stream",
     "text": [
      "Downloading data from https://storage.googleapis.com/tensorflow/keras-applications/mobilenet_v2/mobilenet_v2_weights_tf_dim_ordering_tf_kernels_1.0_224_no_top.h5\n",
      "9412608/9406464 [==============================] - 0s 0us/step\n",
      "Model: \"mobilenetv2_1.00_224\"\n",
      "__________________________________________________________________________________________________\n",
      "Layer (type)                    Output Shape         Param #     Connected to                     \n",
      "==================================================================================================\n",
      "input_1 (InputLayer)            [(None, 256, 256, 3) 0                                            \n",
      "__________________________________________________________________________________________________\n",
      "Conv1_pad (ZeroPadding2D)       (None, 257, 257, 3)  0           input_1[0][0]                    \n",
      "__________________________________________________________________________________________________\n",
      "Conv1 (Conv2D)                  (None, 128, 128, 32) 864         Conv1_pad[0][0]                  \n",
      "__________________________________________________________________________________________________\n",
      "bn_Conv1 (BatchNormalization)   (None, 128, 128, 32) 128         Conv1[0][0]                      \n",
      "__________________________________________________________________________________________________\n",
      "Conv1_relu (ReLU)               (None, 128, 128, 32) 0           bn_Conv1[0][0]                   \n",
      "__________________________________________________________________________________________________\n",
      "expanded_conv_depthwise (Depthw (None, 128, 128, 32) 288         Conv1_relu[0][0]                 \n",
      "__________________________________________________________________________________________________\n",
      "expanded_conv_depthwise_BN (Bat (None, 128, 128, 32) 128         expanded_conv_depthwise[0][0]    \n",
      "__________________________________________________________________________________________________\n",
      "expanded_conv_depthwise_relu (R (None, 128, 128, 32) 0           expanded_conv_depthwise_BN[0][0] \n",
      "__________________________________________________________________________________________________\n",
      "expanded_conv_project (Conv2D)  (None, 128, 128, 16) 512         expanded_conv_depthwise_relu[0][0\n",
      "__________________________________________________________________________________________________\n",
      "expanded_conv_project_BN (Batch (None, 128, 128, 16) 64          expanded_conv_project[0][0]      \n",
      "__________________________________________________________________________________________________\n",
      "block_1_expand (Conv2D)         (None, 128, 128, 96) 1536        expanded_conv_project_BN[0][0]   \n",
      "__________________________________________________________________________________________________\n",
      "block_1_expand_BN (BatchNormali (None, 128, 128, 96) 384         block_1_expand[0][0]             \n",
      "__________________________________________________________________________________________________\n",
      "block_1_expand_relu (ReLU)      (None, 128, 128, 96) 0           block_1_expand_BN[0][0]          \n",
      "__________________________________________________________________________________________________\n",
      "block_1_pad (ZeroPadding2D)     (None, 129, 129, 96) 0           block_1_expand_relu[0][0]        \n",
      "__________________________________________________________________________________________________\n",
      "block_1_depthwise (DepthwiseCon (None, 64, 64, 96)   864         block_1_pad[0][0]                \n",
      "__________________________________________________________________________________________________\n",
      "block_1_depthwise_BN (BatchNorm (None, 64, 64, 96)   384         block_1_depthwise[0][0]          \n",
      "__________________________________________________________________________________________________\n",
      "block_1_depthwise_relu (ReLU)   (None, 64, 64, 96)   0           block_1_depthwise_BN[0][0]       \n",
      "__________________________________________________________________________________________________\n",
      "block_1_project (Conv2D)        (None, 64, 64, 24)   2304        block_1_depthwise_relu[0][0]     \n",
      "__________________________________________________________________________________________________\n",
      "block_1_project_BN (BatchNormal (None, 64, 64, 24)   96          block_1_project[0][0]            \n",
      "__________________________________________________________________________________________________\n",
      "block_2_expand (Conv2D)         (None, 64, 64, 144)  3456        block_1_project_BN[0][0]         \n",
      "__________________________________________________________________________________________________\n",
      "block_2_expand_BN (BatchNormali (None, 64, 64, 144)  576         block_2_expand[0][0]             \n",
      "__________________________________________________________________________________________________\n",
      "block_2_expand_relu (ReLU)      (None, 64, 64, 144)  0           block_2_expand_BN[0][0]          \n",
      "__________________________________________________________________________________________________\n",
      "block_2_depthwise (DepthwiseCon (None, 64, 64, 144)  1296        block_2_expand_relu[0][0]        \n",
      "__________________________________________________________________________________________________\n",
      "block_2_depthwise_BN (BatchNorm (None, 64, 64, 144)  576         block_2_depthwise[0][0]          \n",
      "__________________________________________________________________________________________________\n",
      "block_2_depthwise_relu (ReLU)   (None, 64, 64, 144)  0           block_2_depthwise_BN[0][0]       \n",
      "__________________________________________________________________________________________________\n",
      "block_2_project (Conv2D)        (None, 64, 64, 24)   3456        block_2_depthwise_relu[0][0]     \n",
      "__________________________________________________________________________________________________\n",
      "block_2_project_BN (BatchNormal (None, 64, 64, 24)   96          block_2_project[0][0]            \n",
      "__________________________________________________________________________________________________\n",
      "block_2_add (Add)               (None, 64, 64, 24)   0           block_1_project_BN[0][0]         \n",
      "                                                                 block_2_project_BN[0][0]         \n",
      "__________________________________________________________________________________________________\n",
      "block_3_expand (Conv2D)         (None, 64, 64, 144)  3456        block_2_add[0][0]                \n",
      "__________________________________________________________________________________________________\n",
      "block_3_expand_BN (BatchNormali (None, 64, 64, 144)  576         block_3_expand[0][0]             \n",
      "__________________________________________________________________________________________________\n",
      "block_3_expand_relu (ReLU)      (None, 64, 64, 144)  0           block_3_expand_BN[0][0]          \n",
      "__________________________________________________________________________________________________\n",
      "block_3_pad (ZeroPadding2D)     (None, 65, 65, 144)  0           block_3_expand_relu[0][0]        \n",
      "__________________________________________________________________________________________________\n",
      "block_3_depthwise (DepthwiseCon (None, 32, 32, 144)  1296        block_3_pad[0][0]                \n",
      "__________________________________________________________________________________________________\n",
      "block_3_depthwise_BN (BatchNorm (None, 32, 32, 144)  576         block_3_depthwise[0][0]          \n",
      "__________________________________________________________________________________________________\n",
      "block_3_depthwise_relu (ReLU)   (None, 32, 32, 144)  0           block_3_depthwise_BN[0][0]       \n",
      "__________________________________________________________________________________________________\n",
      "block_3_project (Conv2D)        (None, 32, 32, 32)   4608        block_3_depthwise_relu[0][0]     \n",
      "__________________________________________________________________________________________________\n",
      "block_3_project_BN (BatchNormal (None, 32, 32, 32)   128         block_3_project[0][0]            \n",
      "__________________________________________________________________________________________________\n",
      "block_4_expand (Conv2D)         (None, 32, 32, 192)  6144        block_3_project_BN[0][0]         \n",
      "__________________________________________________________________________________________________\n",
      "block_4_expand_BN (BatchNormali (None, 32, 32, 192)  768         block_4_expand[0][0]             \n",
      "__________________________________________________________________________________________________\n",
      "block_4_expand_relu (ReLU)      (None, 32, 32, 192)  0           block_4_expand_BN[0][0]          \n",
      "__________________________________________________________________________________________________\n",
      "block_4_depthwise (DepthwiseCon (None, 32, 32, 192)  1728        block_4_expand_relu[0][0]        \n",
      "__________________________________________________________________________________________________\n",
      "block_4_depthwise_BN (BatchNorm (None, 32, 32, 192)  768         block_4_depthwise[0][0]          \n",
      "__________________________________________________________________________________________________\n",
      "block_4_depthwise_relu (ReLU)   (None, 32, 32, 192)  0           block_4_depthwise_BN[0][0]       \n",
      "__________________________________________________________________________________________________\n",
      "block_4_project (Conv2D)        (None, 32, 32, 32)   6144        block_4_depthwise_relu[0][0]     \n",
      "__________________________________________________________________________________________________\n",
      "block_4_project_BN (BatchNormal (None, 32, 32, 32)   128         block_4_project[0][0]            \n",
      "__________________________________________________________________________________________________\n",
      "block_4_add (Add)               (None, 32, 32, 32)   0           block_3_project_BN[0][0]         \n",
      "                                                                 block_4_project_BN[0][0]         \n",
      "__________________________________________________________________________________________________\n",
      "block_5_expand (Conv2D)         (None, 32, 32, 192)  6144        block_4_add[0][0]                \n",
      "__________________________________________________________________________________________________\n",
      "block_5_expand_BN (BatchNormali (None, 32, 32, 192)  768         block_5_expand[0][0]             \n",
      "__________________________________________________________________________________________________\n",
      "block_5_expand_relu (ReLU)      (None, 32, 32, 192)  0           block_5_expand_BN[0][0]          \n",
      "__________________________________________________________________________________________________\n",
      "block_5_depthwise (DepthwiseCon (None, 32, 32, 192)  1728        block_5_expand_relu[0][0]        \n",
      "__________________________________________________________________________________________________\n",
      "block_5_depthwise_BN (BatchNorm (None, 32, 32, 192)  768         block_5_depthwise[0][0]          \n",
      "__________________________________________________________________________________________________\n",
      "block_5_depthwise_relu (ReLU)   (None, 32, 32, 192)  0           block_5_depthwise_BN[0][0]       \n",
      "__________________________________________________________________________________________________\n",
      "block_5_project (Conv2D)        (None, 32, 32, 32)   6144        block_5_depthwise_relu[0][0]     \n",
      "__________________________________________________________________________________________________\n",
      "block_5_project_BN (BatchNormal (None, 32, 32, 32)   128         block_5_project[0][0]            \n",
      "__________________________________________________________________________________________________\n",
      "block_5_add (Add)               (None, 32, 32, 32)   0           block_4_add[0][0]                \n",
      "                                                                 block_5_project_BN[0][0]         \n",
      "__________________________________________________________________________________________________\n",
      "block_6_expand (Conv2D)         (None, 32, 32, 192)  6144        block_5_add[0][0]                \n",
      "__________________________________________________________________________________________________\n",
      "block_6_expand_BN (BatchNormali (None, 32, 32, 192)  768         block_6_expand[0][0]             \n",
      "__________________________________________________________________________________________________\n",
      "block_6_expand_relu (ReLU)      (None, 32, 32, 192)  0           block_6_expand_BN[0][0]          \n",
      "__________________________________________________________________________________________________\n",
      "block_6_pad (ZeroPadding2D)     (None, 33, 33, 192)  0           block_6_expand_relu[0][0]        \n",
      "__________________________________________________________________________________________________\n",
      "block_6_depthwise (DepthwiseCon (None, 16, 16, 192)  1728        block_6_pad[0][0]                \n",
      "__________________________________________________________________________________________________\n",
      "block_6_depthwise_BN (BatchNorm (None, 16, 16, 192)  768         block_6_depthwise[0][0]          \n",
      "__________________________________________________________________________________________________\n",
      "block_6_depthwise_relu (ReLU)   (None, 16, 16, 192)  0           block_6_depthwise_BN[0][0]       \n",
      "__________________________________________________________________________________________________\n",
      "block_6_project (Conv2D)        (None, 16, 16, 64)   12288       block_6_depthwise_relu[0][0]     \n",
      "__________________________________________________________________________________________________\n",
      "block_6_project_BN (BatchNormal (None, 16, 16, 64)   256         block_6_project[0][0]            \n",
      "__________________________________________________________________________________________________\n",
      "block_7_expand (Conv2D)         (None, 16, 16, 384)  24576       block_6_project_BN[0][0]         \n",
      "__________________________________________________________________________________________________\n",
      "block_7_expand_BN (BatchNormali (None, 16, 16, 384)  1536        block_7_expand[0][0]             \n",
      "__________________________________________________________________________________________________\n",
      "block_7_expand_relu (ReLU)      (None, 16, 16, 384)  0           block_7_expand_BN[0][0]          \n",
      "__________________________________________________________________________________________________\n",
      "block_7_depthwise (DepthwiseCon (None, 16, 16, 384)  3456        block_7_expand_relu[0][0]        \n",
      "__________________________________________________________________________________________________\n",
      "block_7_depthwise_BN (BatchNorm (None, 16, 16, 384)  1536        block_7_depthwise[0][0]          \n",
      "__________________________________________________________________________________________________\n",
      "block_7_depthwise_relu (ReLU)   (None, 16, 16, 384)  0           block_7_depthwise_BN[0][0]       \n",
      "__________________________________________________________________________________________________\n",
      "block_7_project (Conv2D)        (None, 16, 16, 64)   24576       block_7_depthwise_relu[0][0]     \n",
      "__________________________________________________________________________________________________\n",
      "block_7_project_BN (BatchNormal (None, 16, 16, 64)   256         block_7_project[0][0]            \n",
      "__________________________________________________________________________________________________\n",
      "block_7_add (Add)               (None, 16, 16, 64)   0           block_6_project_BN[0][0]         \n",
      "                                                                 block_7_project_BN[0][0]         \n",
      "__________________________________________________________________________________________________\n",
      "block_8_expand (Conv2D)         (None, 16, 16, 384)  24576       block_7_add[0][0]                \n",
      "__________________________________________________________________________________________________\n",
      "block_8_expand_BN (BatchNormali (None, 16, 16, 384)  1536        block_8_expand[0][0]             \n",
      "__________________________________________________________________________________________________\n",
      "block_8_expand_relu (ReLU)      (None, 16, 16, 384)  0           block_8_expand_BN[0][0]          \n",
      "__________________________________________________________________________________________________\n",
      "block_8_depthwise (DepthwiseCon (None, 16, 16, 384)  3456        block_8_expand_relu[0][0]        \n",
      "__________________________________________________________________________________________________\n",
      "block_8_depthwise_BN (BatchNorm (None, 16, 16, 384)  1536        block_8_depthwise[0][0]          \n",
      "__________________________________________________________________________________________________\n",
      "block_8_depthwise_relu (ReLU)   (None, 16, 16, 384)  0           block_8_depthwise_BN[0][0]       \n",
      "__________________________________________________________________________________________________\n",
      "block_8_project (Conv2D)        (None, 16, 16, 64)   24576       block_8_depthwise_relu[0][0]     \n",
      "__________________________________________________________________________________________________\n",
      "block_8_project_BN (BatchNormal (None, 16, 16, 64)   256         block_8_project[0][0]            \n",
      "__________________________________________________________________________________________________\n",
      "block_8_add (Add)               (None, 16, 16, 64)   0           block_7_add[0][0]                \n",
      "                                                                 block_8_project_BN[0][0]         \n",
      "__________________________________________________________________________________________________\n",
      "block_9_expand (Conv2D)         (None, 16, 16, 384)  24576       block_8_add[0][0]                \n",
      "__________________________________________________________________________________________________\n",
      "block_9_expand_BN (BatchNormali (None, 16, 16, 384)  1536        block_9_expand[0][0]             \n",
      "__________________________________________________________________________________________________\n",
      "block_9_expand_relu (ReLU)      (None, 16, 16, 384)  0           block_9_expand_BN[0][0]          \n",
      "__________________________________________________________________________________________________\n",
      "block_9_depthwise (DepthwiseCon (None, 16, 16, 384)  3456        block_9_expand_relu[0][0]        \n",
      "__________________________________________________________________________________________________\n",
      "block_9_depthwise_BN (BatchNorm (None, 16, 16, 384)  1536        block_9_depthwise[0][0]          \n",
      "__________________________________________________________________________________________________\n",
      "block_9_depthwise_relu (ReLU)   (None, 16, 16, 384)  0           block_9_depthwise_BN[0][0]       \n",
      "__________________________________________________________________________________________________\n",
      "block_9_project (Conv2D)        (None, 16, 16, 64)   24576       block_9_depthwise_relu[0][0]     \n",
      "__________________________________________________________________________________________________\n",
      "block_9_project_BN (BatchNormal (None, 16, 16, 64)   256         block_9_project[0][0]            \n",
      "__________________________________________________________________________________________________\n",
      "block_9_add (Add)               (None, 16, 16, 64)   0           block_8_add[0][0]                \n",
      "                                                                 block_9_project_BN[0][0]         \n",
      "__________________________________________________________________________________________________\n",
      "block_10_expand (Conv2D)        (None, 16, 16, 384)  24576       block_9_add[0][0]                \n",
      "__________________________________________________________________________________________________\n",
      "block_10_expand_BN (BatchNormal (None, 16, 16, 384)  1536        block_10_expand[0][0]            \n",
      "__________________________________________________________________________________________________\n",
      "block_10_expand_relu (ReLU)     (None, 16, 16, 384)  0           block_10_expand_BN[0][0]         \n",
      "__________________________________________________________________________________________________\n",
      "block_10_depthwise (DepthwiseCo (None, 16, 16, 384)  3456        block_10_expand_relu[0][0]       \n",
      "__________________________________________________________________________________________________\n",
      "block_10_depthwise_BN (BatchNor (None, 16, 16, 384)  1536        block_10_depthwise[0][0]         \n",
      "__________________________________________________________________________________________________\n",
      "block_10_depthwise_relu (ReLU)  (None, 16, 16, 384)  0           block_10_depthwise_BN[0][0]      \n",
      "__________________________________________________________________________________________________\n",
      "block_10_project (Conv2D)       (None, 16, 16, 96)   36864       block_10_depthwise_relu[0][0]    \n",
      "__________________________________________________________________________________________________\n",
      "block_10_project_BN (BatchNorma (None, 16, 16, 96)   384         block_10_project[0][0]           \n",
      "__________________________________________________________________________________________________\n",
      "block_11_expand (Conv2D)        (None, 16, 16, 576)  55296       block_10_project_BN[0][0]        \n",
      "__________________________________________________________________________________________________\n",
      "block_11_expand_BN (BatchNormal (None, 16, 16, 576)  2304        block_11_expand[0][0]            \n",
      "__________________________________________________________________________________________________\n",
      "block_11_expand_relu (ReLU)     (None, 16, 16, 576)  0           block_11_expand_BN[0][0]         \n",
      "__________________________________________________________________________________________________\n",
      "block_11_depthwise (DepthwiseCo (None, 16, 16, 576)  5184        block_11_expand_relu[0][0]       \n",
      "__________________________________________________________________________________________________\n",
      "block_11_depthwise_BN (BatchNor (None, 16, 16, 576)  2304        block_11_depthwise[0][0]         \n",
      "__________________________________________________________________________________________________\n",
      "block_11_depthwise_relu (ReLU)  (None, 16, 16, 576)  0           block_11_depthwise_BN[0][0]      \n",
      "__________________________________________________________________________________________________\n",
      "block_11_project (Conv2D)       (None, 16, 16, 96)   55296       block_11_depthwise_relu[0][0]    \n",
      "__________________________________________________________________________________________________\n",
      "block_11_project_BN (BatchNorma (None, 16, 16, 96)   384         block_11_project[0][0]           \n",
      "__________________________________________________________________________________________________\n",
      "block_11_add (Add)              (None, 16, 16, 96)   0           block_10_project_BN[0][0]        \n",
      "                                                                 block_11_project_BN[0][0]        \n",
      "__________________________________________________________________________________________________\n",
      "block_12_expand (Conv2D)        (None, 16, 16, 576)  55296       block_11_add[0][0]               \n",
      "__________________________________________________________________________________________________\n",
      "block_12_expand_BN (BatchNormal (None, 16, 16, 576)  2304        block_12_expand[0][0]            \n",
      "__________________________________________________________________________________________________\n",
      "block_12_expand_relu (ReLU)     (None, 16, 16, 576)  0           block_12_expand_BN[0][0]         \n",
      "__________________________________________________________________________________________________\n",
      "block_12_depthwise (DepthwiseCo (None, 16, 16, 576)  5184        block_12_expand_relu[0][0]       \n",
      "__________________________________________________________________________________________________\n",
      "block_12_depthwise_BN (BatchNor (None, 16, 16, 576)  2304        block_12_depthwise[0][0]         \n",
      "__________________________________________________________________________________________________\n",
      "block_12_depthwise_relu (ReLU)  (None, 16, 16, 576)  0           block_12_depthwise_BN[0][0]      \n",
      "__________________________________________________________________________________________________\n",
      "block_12_project (Conv2D)       (None, 16, 16, 96)   55296       block_12_depthwise_relu[0][0]    \n",
      "__________________________________________________________________________________________________\n",
      "block_12_project_BN (BatchNorma (None, 16, 16, 96)   384         block_12_project[0][0]           \n",
      "__________________________________________________________________________________________________\n",
      "block_12_add (Add)              (None, 16, 16, 96)   0           block_11_add[0][0]               \n",
      "                                                                 block_12_project_BN[0][0]        \n",
      "__________________________________________________________________________________________________\n",
      "block_13_expand (Conv2D)        (None, 16, 16, 576)  55296       block_12_add[0][0]               \n",
      "__________________________________________________________________________________________________\n",
      "block_13_expand_BN (BatchNormal (None, 16, 16, 576)  2304        block_13_expand[0][0]            \n",
      "__________________________________________________________________________________________________\n",
      "block_13_expand_relu (ReLU)     (None, 16, 16, 576)  0           block_13_expand_BN[0][0]         \n",
      "__________________________________________________________________________________________________\n",
      "block_13_pad (ZeroPadding2D)    (None, 17, 17, 576)  0           block_13_expand_relu[0][0]       \n",
      "__________________________________________________________________________________________________\n",
      "block_13_depthwise (DepthwiseCo (None, 8, 8, 576)    5184        block_13_pad[0][0]               \n",
      "__________________________________________________________________________________________________\n",
      "block_13_depthwise_BN (BatchNor (None, 8, 8, 576)    2304        block_13_depthwise[0][0]         \n",
      "__________________________________________________________________________________________________\n",
      "block_13_depthwise_relu (ReLU)  (None, 8, 8, 576)    0           block_13_depthwise_BN[0][0]      \n",
      "__________________________________________________________________________________________________\n",
      "block_13_project (Conv2D)       (None, 8, 8, 160)    92160       block_13_depthwise_relu[0][0]    \n",
      "__________________________________________________________________________________________________\n",
      "block_13_project_BN (BatchNorma (None, 8, 8, 160)    640         block_13_project[0][0]           \n",
      "__________________________________________________________________________________________________\n",
      "block_14_expand (Conv2D)        (None, 8, 8, 960)    153600      block_13_project_BN[0][0]        \n",
      "__________________________________________________________________________________________________\n",
      "block_14_expand_BN (BatchNormal (None, 8, 8, 960)    3840        block_14_expand[0][0]            \n",
      "__________________________________________________________________________________________________\n",
      "block_14_expand_relu (ReLU)     (None, 8, 8, 960)    0           block_14_expand_BN[0][0]         \n",
      "__________________________________________________________________________________________________\n",
      "block_14_depthwise (DepthwiseCo (None, 8, 8, 960)    8640        block_14_expand_relu[0][0]       \n",
      "__________________________________________________________________________________________________\n",
      "block_14_depthwise_BN (BatchNor (None, 8, 8, 960)    3840        block_14_depthwise[0][0]         \n",
      "__________________________________________________________________________________________________\n",
      "block_14_depthwise_relu (ReLU)  (None, 8, 8, 960)    0           block_14_depthwise_BN[0][0]      \n",
      "__________________________________________________________________________________________________\n",
      "block_14_project (Conv2D)       (None, 8, 8, 160)    153600      block_14_depthwise_relu[0][0]    \n",
      "__________________________________________________________________________________________________\n",
      "block_14_project_BN (BatchNorma (None, 8, 8, 160)    640         block_14_project[0][0]           \n",
      "__________________________________________________________________________________________________\n",
      "block_14_add (Add)              (None, 8, 8, 160)    0           block_13_project_BN[0][0]        \n",
      "                                                                 block_14_project_BN[0][0]        \n",
      "__________________________________________________________________________________________________\n",
      "block_15_expand (Conv2D)        (None, 8, 8, 960)    153600      block_14_add[0][0]               \n",
      "__________________________________________________________________________________________________\n",
      "block_15_expand_BN (BatchNormal (None, 8, 8, 960)    3840        block_15_expand[0][0]            \n",
      "__________________________________________________________________________________________________\n",
      "block_15_expand_relu (ReLU)     (None, 8, 8, 960)    0           block_15_expand_BN[0][0]         \n",
      "__________________________________________________________________________________________________\n",
      "block_15_depthwise (DepthwiseCo (None, 8, 8, 960)    8640        block_15_expand_relu[0][0]       \n",
      "__________________________________________________________________________________________________\n",
      "block_15_depthwise_BN (BatchNor (None, 8, 8, 960)    3840        block_15_depthwise[0][0]         \n",
      "__________________________________________________________________________________________________\n",
      "block_15_depthwise_relu (ReLU)  (None, 8, 8, 960)    0           block_15_depthwise_BN[0][0]      \n",
      "__________________________________________________________________________________________________\n",
      "block_15_project (Conv2D)       (None, 8, 8, 160)    153600      block_15_depthwise_relu[0][0]    \n",
      "__________________________________________________________________________________________________\n",
      "block_15_project_BN (BatchNorma (None, 8, 8, 160)    640         block_15_project[0][0]           \n",
      "__________________________________________________________________________________________________\n",
      "block_15_add (Add)              (None, 8, 8, 160)    0           block_14_add[0][0]               \n",
      "                                                                 block_15_project_BN[0][0]        \n",
      "__________________________________________________________________________________________________\n",
      "block_16_expand (Conv2D)        (None, 8, 8, 960)    153600      block_15_add[0][0]               \n",
      "__________________________________________________________________________________________________\n",
      "block_16_expand_BN (BatchNormal (None, 8, 8, 960)    3840        block_16_expand[0][0]            \n",
      "__________________________________________________________________________________________________\n",
      "block_16_expand_relu (ReLU)     (None, 8, 8, 960)    0           block_16_expand_BN[0][0]         \n",
      "__________________________________________________________________________________________________\n",
      "block_16_depthwise (DepthwiseCo (None, 8, 8, 960)    8640        block_16_expand_relu[0][0]       \n",
      "__________________________________________________________________________________________________\n",
      "block_16_depthwise_BN (BatchNor (None, 8, 8, 960)    3840        block_16_depthwise[0][0]         \n",
      "__________________________________________________________________________________________________\n",
      "block_16_depthwise_relu (ReLU)  (None, 8, 8, 960)    0           block_16_depthwise_BN[0][0]      \n",
      "__________________________________________________________________________________________________\n",
      "block_16_project (Conv2D)       (None, 8, 8, 320)    307200      block_16_depthwise_relu[0][0]    \n",
      "__________________________________________________________________________________________________\n",
      "block_16_project_BN (BatchNorma (None, 8, 8, 320)    1280        block_16_project[0][0]           \n",
      "__________________________________________________________________________________________________\n",
      "Conv_1 (Conv2D)                 (None, 8, 8, 1280)   409600      block_16_project_BN[0][0]        \n",
      "__________________________________________________________________________________________________\n",
      "Conv_1_bn (BatchNormalization)  (None, 8, 8, 1280)   5120        Conv_1[0][0]                     \n",
      "__________________________________________________________________________________________________\n",
      "out_relu (ReLU)                 (None, 8, 8, 1280)   0           Conv_1_bn[0][0]                  \n",
      "==================================================================================================\n",
      "Total params: 2,257,984\n",
      "Trainable params: 0\n",
      "Non-trainable params: 2,257,984\n",
      "__________________________________________________________________________________________________\n"
     ]
    }
   ],
   "source": [
    "# Create the base model from the pre-trained model MobileNet V2\n",
    "IMAGE_SHAPE = (IMAGE_SIZE,IMAGE_SIZE,3)\n",
    "base_model = tf.keras.applications.MobileNetV2(input_shape=IMAGE_SHAPE,\n",
    "                                               include_top=False,\n",
    "                                               weights='imagenet')\n",
    "\n",
    "base_model.trainable = False\n",
    "\n",
    "base_model.summary()"
   ]
  },
  {
   "cell_type": "code",
   "execution_count": 0,
   "metadata": {
    "colab": {},
    "colab_type": "code",
    "id": "tW_OyRVj4D0Z"
   },
   "outputs": [],
   "source": [
    "global_average_layer = tf.keras.layers.GlobalAveragePooling2D()\n",
    "prediction_layer = tf.keras.layers.Dense(5, activation='softmax')\n",
    "model = tf.keras.Sequential([\n",
    "  base_model,\n",
    "  global_average_layer,\n",
    "  prediction_layer\n",
    "])\n",
    "\n",
    "base_learning_rate = 0.0001  ## 學習率\n",
    "model.compile(optimizer=tf.keras.optimizers.RMSprop(lr=base_learning_rate),\n",
    "              loss=tf.keras.losses.SparseCategoricalCrossentropy(),\n",
    "              metrics=['accuracy'])"
   ]
  },
  {
   "cell_type": "code",
   "execution_count": 38,
   "metadata": {
    "colab": {
     "base_uri": "https://localhost:8080/",
     "height": 54
    },
    "colab_type": "code",
    "executionInfo": {
     "elapsed": 20788,
     "status": "ok",
     "timestamp": 1592277706781,
     "user": {
      "displayName": "周育德",
      "photoUrl": "",
      "userId": "03851540063312078708"
     },
     "user_tz": -480
    },
    "id": "RSHMcfX4PSn8",
    "outputId": "258c7dbc-ecbe-4e23-d0b7-a3e46cc5f359"
   },
   "outputs": [
    {
     "name": "stdout",
     "output_type": "stream",
     "text": [
      "51/51 [==============================] - 9s 184ms/step - loss: 1.8481 - accuracy: 0.2252\n"
     ]
    },
    {
     "data": {
      "text/plain": [
       "[1.84806227684021, 0.22518382966518402]"
      ]
     },
     "execution_count": 38,
     "metadata": {
      "tags": []
     },
     "output_type": "execute_result"
    }
   ],
   "source": [
    "## 訓練前測試集評估模型\n",
    "model.evaluate(test_batches, steps=int(ds_info.splits['train[10%:]'].num_examples / batch_size))"
   ]
  },
  {
   "cell_type": "code",
   "execution_count": 39,
   "metadata": {
    "colab": {
     "base_uri": "https://localhost:8080/",
     "height": 1000
    },
    "colab_type": "code",
    "executionInfo": {
     "elapsed": 360132,
     "status": "ok",
     "timestamp": 1592278100552,
     "user": {
      "displayName": "周育德",
      "photoUrl": "",
      "userId": "03851540063312078708"
     },
     "user_tz": -480
    },
    "id": "M4cm0fJo5XPn",
    "outputId": "8c30861e-ef6d-4474-9063-df9f3f538252"
   },
   "outputs": [
    {
     "name": "stdout",
     "output_type": "stream",
     "text": [
      "Epoch 1/100\n",
      "46/46 [==============================] - ETA: 0s - loss: 1.5612 - accuracy: 0.3794\n",
      "Epoch 00001: saving model to training_2/best_model.ckpt\n",
      "46/46 [==============================] - 11s 242ms/step - loss: 1.5612 - accuracy: 0.3794 - val_loss: 1.3910 - val_accuracy: 0.4496\n",
      "Epoch 2/100\n",
      "46/46 [==============================] - ETA: 0s - loss: 1.2529 - accuracy: 0.5140\n",
      "Epoch 00002: saving model to training_2/best_model.ckpt\n",
      "46/46 [==============================] - 10s 217ms/step - loss: 1.2529 - accuracy: 0.5140 - val_loss: 1.1481 - val_accuracy: 0.5695\n",
      "Epoch 3/100\n",
      "46/46 [==============================] - ETA: 0s - loss: 1.0395 - accuracy: 0.6155\n",
      "Epoch 00003: saving model to training_2/best_model.ckpt\n",
      "46/46 [==============================] - 10s 219ms/step - loss: 1.0395 - accuracy: 0.6155 - val_loss: 0.9719 - val_accuracy: 0.6785\n",
      "Epoch 4/100\n",
      "46/46 [==============================] - ETA: 0s - loss: 0.8853 - accuracy: 0.6993\n",
      "Epoch 00004: saving model to training_2/best_model.ckpt\n",
      "46/46 [==============================] - 10s 218ms/step - loss: 0.8853 - accuracy: 0.6993 - val_loss: 0.8473 - val_accuracy: 0.7384\n",
      "Epoch 5/100\n",
      "46/46 [==============================] - ETA: 0s - loss: 0.7748 - accuracy: 0.7503\n",
      "Epoch 00005: saving model to training_2/best_model.ckpt\n",
      "46/46 [==============================] - 10s 218ms/step - loss: 0.7748 - accuracy: 0.7503 - val_loss: 0.7586 - val_accuracy: 0.7493\n",
      "Epoch 6/100\n",
      "46/46 [==============================] - ETA: 0s - loss: 0.6944 - accuracy: 0.7813\n",
      "Epoch 00006: saving model to training_2/best_model.ckpt\n",
      "46/46 [==============================] - 10s 216ms/step - loss: 0.6944 - accuracy: 0.7813 - val_loss: 0.6907 - val_accuracy: 0.7820\n",
      "Epoch 7/100\n",
      "46/46 [==============================] - ETA: 0s - loss: 0.6318 - accuracy: 0.7970\n",
      "Epoch 00007: saving model to training_2/best_model.ckpt\n",
      "46/46 [==============================] - 10s 218ms/step - loss: 0.6318 - accuracy: 0.7970 - val_loss: 0.6447 - val_accuracy: 0.7984\n",
      "Epoch 8/100\n",
      "46/46 [==============================] - ETA: 0s - loss: 0.5843 - accuracy: 0.8195\n",
      "Epoch 00008: saving model to training_2/best_model.ckpt\n",
      "46/46 [==============================] - 10s 217ms/step - loss: 0.5843 - accuracy: 0.8195 - val_loss: 0.5919 - val_accuracy: 0.8147\n",
      "Epoch 9/100\n",
      "46/46 [==============================] - ETA: 0s - loss: 0.5470 - accuracy: 0.8294\n",
      "Epoch 00009: saving model to training_2/best_model.ckpt\n",
      "46/46 [==============================] - 10s 218ms/step - loss: 0.5470 - accuracy: 0.8294 - val_loss: 0.5632 - val_accuracy: 0.8120\n",
      "Epoch 10/100\n",
      "46/46 [==============================] - ETA: 0s - loss: 0.5146 - accuracy: 0.8392\n",
      "Epoch 00010: saving model to training_2/best_model.ckpt\n",
      "46/46 [==============================] - 10s 217ms/step - loss: 0.5146 - accuracy: 0.8392 - val_loss: 0.5341 - val_accuracy: 0.8256\n",
      "Epoch 11/100\n",
      "46/46 [==============================] - ETA: 0s - loss: 0.4872 - accuracy: 0.8471\n",
      "Epoch 00011: saving model to training_2/best_model.ckpt\n",
      "46/46 [==============================] - 10s 216ms/step - loss: 0.4872 - accuracy: 0.8471 - val_loss: 0.5075 - val_accuracy: 0.8311\n",
      "Epoch 12/100\n",
      "46/46 [==============================] - ETA: 0s - loss: 0.4643 - accuracy: 0.8508\n",
      "Epoch 00012: saving model to training_2/best_model.ckpt\n",
      "46/46 [==============================] - 10s 219ms/step - loss: 0.4643 - accuracy: 0.8508 - val_loss: 0.4929 - val_accuracy: 0.8365\n",
      "Epoch 13/100\n",
      "46/46 [==============================] - ETA: 0s - loss: 0.4444 - accuracy: 0.8597\n",
      "Epoch 00013: saving model to training_2/best_model.ckpt\n",
      "46/46 [==============================] - 10s 217ms/step - loss: 0.4444 - accuracy: 0.8597 - val_loss: 0.4716 - val_accuracy: 0.8447\n",
      "Epoch 14/100\n",
      "46/46 [==============================] - ETA: 0s - loss: 0.4275 - accuracy: 0.8672\n",
      "Epoch 00014: saving model to training_2/best_model.ckpt\n",
      "46/46 [==============================] - 10s 218ms/step - loss: 0.4275 - accuracy: 0.8672 - val_loss: 0.4582 - val_accuracy: 0.8556\n",
      "Epoch 15/100\n",
      "46/46 [==============================] - ETA: 0s - loss: 0.4129 - accuracy: 0.8709\n",
      "Epoch 00015: saving model to training_2/best_model.ckpt\n",
      "46/46 [==============================] - 10s 217ms/step - loss: 0.4129 - accuracy: 0.8709 - val_loss: 0.4483 - val_accuracy: 0.8556\n",
      "Epoch 16/100\n",
      "46/46 [==============================] - ETA: 0s - loss: 0.3993 - accuracy: 0.8757\n",
      "Epoch 00016: saving model to training_2/best_model.ckpt\n",
      "46/46 [==============================] - 10s 217ms/step - loss: 0.3993 - accuracy: 0.8757 - val_loss: 0.4343 - val_accuracy: 0.8692\n",
      "Epoch 17/100\n",
      "46/46 [==============================] - ETA: 0s - loss: 0.3877 - accuracy: 0.8804\n",
      "Epoch 00017: saving model to training_2/best_model.ckpt\n",
      "46/46 [==============================] - 10s 217ms/step - loss: 0.3877 - accuracy: 0.8804 - val_loss: 0.4248 - val_accuracy: 0.8719\n",
      "Epoch 18/100\n",
      "46/46 [==============================] - ETA: 0s - loss: 0.3762 - accuracy: 0.8828\n",
      "Epoch 00018: saving model to training_2/best_model.ckpt\n",
      "46/46 [==============================] - 10s 217ms/step - loss: 0.3762 - accuracy: 0.8828 - val_loss: 0.4155 - val_accuracy: 0.8747\n",
      "Epoch 19/100\n",
      "46/46 [==============================] - ETA: 0s - loss: 0.3666 - accuracy: 0.8852\n",
      "Epoch 00019: saving model to training_2/best_model.ckpt\n",
      "46/46 [==============================] - 10s 217ms/step - loss: 0.3666 - accuracy: 0.8852 - val_loss: 0.4073 - val_accuracy: 0.8747\n",
      "Epoch 20/100\n",
      "46/46 [==============================] - ETA: 0s - loss: 0.3570 - accuracy: 0.8873\n",
      "Epoch 00020: saving model to training_2/best_model.ckpt\n",
      "46/46 [==============================] - 10s 219ms/step - loss: 0.3570 - accuracy: 0.8873 - val_loss: 0.4017 - val_accuracy: 0.8801\n",
      "Epoch 21/100\n",
      "46/46 [==============================] - ETA: 0s - loss: 0.3483 - accuracy: 0.8920\n",
      "Epoch 00021: saving model to training_2/best_model.ckpt\n",
      "46/46 [==============================] - 10s 217ms/step - loss: 0.3483 - accuracy: 0.8920 - val_loss: 0.3922 - val_accuracy: 0.8856\n",
      "Epoch 22/100\n",
      "46/46 [==============================] - ETA: 0s - loss: 0.3404 - accuracy: 0.8948\n",
      "Epoch 00022: saving model to training_2/best_model.ckpt\n",
      "46/46 [==============================] - 10s 218ms/step - loss: 0.3404 - accuracy: 0.8948 - val_loss: 0.3867 - val_accuracy: 0.8856\n",
      "Epoch 23/100\n",
      "46/46 [==============================] - ETA: 0s - loss: 0.3332 - accuracy: 0.8958\n",
      "Epoch 00023: saving model to training_2/best_model.ckpt\n",
      "46/46 [==============================] - 10s 219ms/step - loss: 0.3332 - accuracy: 0.8958 - val_loss: 0.3815 - val_accuracy: 0.8910\n",
      "Epoch 24/100\n",
      "46/46 [==============================] - ETA: 0s - loss: 0.3261 - accuracy: 0.8978\n",
      "Epoch 00024: saving model to training_2/best_model.ckpt\n",
      "46/46 [==============================] - 10s 216ms/step - loss: 0.3261 - accuracy: 0.8978 - val_loss: 0.3791 - val_accuracy: 0.8856\n",
      "Epoch 25/100\n",
      "46/46 [==============================] - ETA: 0s - loss: 0.3195 - accuracy: 0.8999\n",
      "Epoch 00025: saving model to training_2/best_model.ckpt\n",
      "46/46 [==============================] - 10s 218ms/step - loss: 0.3195 - accuracy: 0.8999 - val_loss: 0.3725 - val_accuracy: 0.8883\n",
      "Epoch 26/100\n",
      "46/46 [==============================] - ETA: 0s - loss: 0.3133 - accuracy: 0.9022\n",
      "Epoch 00026: saving model to training_2/best_model.ckpt\n",
      "46/46 [==============================] - 10s 215ms/step - loss: 0.3133 - accuracy: 0.9022 - val_loss: 0.3691 - val_accuracy: 0.8910\n",
      "Epoch 27/100\n",
      "46/46 [==============================] - ETA: 0s - loss: 0.3076 - accuracy: 0.9067\n",
      "Epoch 00027: saving model to training_2/best_model.ckpt\n",
      "46/46 [==============================] - 10s 217ms/step - loss: 0.3076 - accuracy: 0.9067 - val_loss: 0.3641 - val_accuracy: 0.8937\n",
      "Epoch 28/100\n",
      "46/46 [==============================] - ETA: 0s - loss: 0.3021 - accuracy: 0.9080\n",
      "Epoch 00028: saving model to training_2/best_model.ckpt\n",
      "46/46 [==============================] - 10s 218ms/step - loss: 0.3021 - accuracy: 0.9080 - val_loss: 0.3589 - val_accuracy: 0.8937\n",
      "Epoch 29/100\n",
      "46/46 [==============================] - ETA: 0s - loss: 0.2970 - accuracy: 0.9087\n",
      "Epoch 00029: saving model to training_2/best_model.ckpt\n",
      "46/46 [==============================] - 10s 218ms/step - loss: 0.2970 - accuracy: 0.9087 - val_loss: 0.3566 - val_accuracy: 0.8965\n",
      "Epoch 30/100\n",
      "46/46 [==============================] - ETA: 0s - loss: 0.2913 - accuracy: 0.9135\n",
      "Epoch 00030: saving model to training_2/best_model.ckpt\n",
      "46/46 [==============================] - 10s 217ms/step - loss: 0.2913 - accuracy: 0.9135 - val_loss: 0.3518 - val_accuracy: 0.8910\n",
      "Epoch 31/100\n",
      "46/46 [==============================] - ETA: 0s - loss: 0.2872 - accuracy: 0.9135\n",
      "Epoch 00031: saving model to training_2/best_model.ckpt\n",
      "46/46 [==============================] - 10s 219ms/step - loss: 0.2872 - accuracy: 0.9135 - val_loss: 0.3494 - val_accuracy: 0.8937\n",
      "Epoch 32/100\n",
      "46/46 [==============================] - ETA: 0s - loss: 0.2819 - accuracy: 0.9159\n",
      "Epoch 00032: saving model to training_2/best_model.ckpt\n",
      "46/46 [==============================] - 10s 218ms/step - loss: 0.2819 - accuracy: 0.9159 - val_loss: 0.3466 - val_accuracy: 0.8965\n",
      "Epoch 33/100\n",
      "46/46 [==============================] - ETA: 0s - loss: 0.2778 - accuracy: 0.9172\n",
      "Epoch 00033: saving model to training_2/best_model.ckpt\n",
      "46/46 [==============================] - 10s 218ms/step - loss: 0.2778 - accuracy: 0.9172 - val_loss: 0.3443 - val_accuracy: 0.8937\n",
      "Epoch 34/100\n",
      "46/46 [==============================] - ETA: 0s - loss: 0.2738 - accuracy: 0.9186\n",
      "Epoch 00034: saving model to training_2/best_model.ckpt\n",
      "46/46 [==============================] - 10s 218ms/step - loss: 0.2738 - accuracy: 0.9186 - val_loss: 0.3412 - val_accuracy: 0.8937\n"
     ]
    }
   ],
   "source": [
    "callback = tf.keras.callbacks.EarlyStopping(monitor='val_accuracy', verbose=0, mode='auto', patience=5) ## 當大於 10 次沒有增加 val_accuracy 時停止訓練\n",
    "\n",
    "checkpoint_path = \"training_2/best_model.ckpt\"\n",
    "cp_callback = tf.keras.callbacks.ModelCheckpoint(filepath=checkpoint_path,\n",
    "                                                 save_weights_only=True,\n",
    "                                                 verbose=1)\n",
    "\n",
    "pretrain_history = model.fit(train_batches, epochs=100, validation_data=validation_batches, callbacks=[callback, cp_callback])"
   ]
  },
  {
   "cell_type": "markdown",
   "metadata": {
    "colab_type": "text",
    "id": "a1gaz6x3LHZa"
   },
   "source": [
    "# Load Model"
   ]
  },
  {
   "cell_type": "code",
   "execution_count": 40,
   "metadata": {
    "colab": {
     "base_uri": "https://localhost:8080/",
     "height": 35
    },
    "colab_type": "code",
    "executionInfo": {
     "elapsed": 1386,
     "status": "ok",
     "timestamp": 1592278185642,
     "user": {
      "displayName": "周育德",
      "photoUrl": "",
      "userId": "03851540063312078708"
     },
     "user_tz": -480
    },
    "id": "PuD7lm9M5aCJ",
    "outputId": "9bbfe796-5b31-40a6-91d7-ba2d66c47f23"
   },
   "outputs": [
    {
     "data": {
      "text/plain": [
       "<tensorflow.python.training.tracking.util.CheckpointLoadStatus at 0x7f266bc195c0>"
      ]
     },
     "execution_count": 40,
     "metadata": {
      "tags": []
     },
     "output_type": "execute_result"
    }
   ],
   "source": [
    "model.load_weights('training_2/best_model.ckpt')  ## 載入模型"
   ]
  },
  {
   "cell_type": "markdown",
   "metadata": {
    "colab_type": "text",
    "id": "xRHN2mghLMIG"
   },
   "source": [
    "# Evaluate Model"
   ]
  },
  {
   "cell_type": "code",
   "execution_count": 41,
   "metadata": {
    "colab": {
     "base_uri": "https://localhost:8080/",
     "height": 54
    },
    "colab_type": "code",
    "executionInfo": {
     "elapsed": 10684,
     "status": "ok",
     "timestamp": 1592278214328,
     "user": {
      "displayName": "周育德",
      "photoUrl": "",
      "userId": "03851540063312078708"
     },
     "user_tz": -480
    },
    "id": "b1JVCX0tLS0I",
    "outputId": "b86a78c4-d92e-4c04-d4c7-756ad7732644"
   },
   "outputs": [
    {
     "name": "stdout",
     "output_type": "stream",
     "text": [
      "51/51 [==============================] - 9s 185ms/step - loss: 0.2827 - accuracy: 0.9142\n"
     ]
    },
    {
     "data": {
      "text/plain": [
       "[0.2826635241508484, 0.9142156839370728]"
      ]
     },
     "execution_count": 41,
     "metadata": {
      "tags": []
     },
     "output_type": "execute_result"
    }
   ],
   "source": [
    "## 測試集評估模型\n",
    "model.evaluate(test_batches, steps=int(ds_info.splits['train[10%:]'].num_examples / batch_size))"
   ]
  },
  {
   "cell_type": "markdown",
   "metadata": {
    "colab_type": "text",
    "id": "pRlHS9UVLeIG"
   },
   "source": [
    "# Confusion Matrix"
   ]
  },
  {
   "cell_type": "code",
   "execution_count": 42,
   "metadata": {
    "colab": {
     "base_uri": "https://localhost:8080/",
     "height": 35
    },
    "colab_type": "code",
    "executionInfo": {
     "elapsed": 5307,
     "status": "ok",
     "timestamp": 1592278229320,
     "user": {
      "displayName": "周育德",
      "photoUrl": "",
      "userId": "03851540063312078708"
     },
     "user_tz": -480
    },
    "id": "gxEvKShCLbb0",
    "outputId": "14196af7-735d-4ef3-f959-b5e8bf8d88af"
   },
   "outputs": [
    {
     "name": "stdout",
     "output_type": "stream",
     "text": [
      "(2560, 256, 256, 3) (2560,)\n"
     ]
    }
   ],
   "source": [
    "labels = []\n",
    "images = []\n",
    "for image_batch, label_batch in test_batches.take(40):  ## 選多少張來做混淆矩陣  ex: 40 * batch_size\n",
    "  images.extend(image_batch.numpy())\n",
    "  labels.extend(label_batch.numpy())\n",
    "\n",
    "images = np.array(images)\n",
    "labels = np.array(labels)\n",
    "\n",
    "print(images.shape, labels.shape)"
   ]
  },
  {
   "cell_type": "code",
   "execution_count": 0,
   "metadata": {
    "colab": {},
    "colab_type": "code",
    "id": "TF263OlWLhdI"
   },
   "outputs": [],
   "source": [
    "test_pred_raw = model.predict(images)\n",
    "test_pred = np.argmax(test_pred_raw, axis=1)  ## 最大值位置\n",
    "\n",
    "# Calculate the confusion matrix.\n",
    "cm = confusion_matrix(labels, test_pred, labels=np.arange(len(breed_category)))"
   ]
  },
  {
   "cell_type": "code",
   "execution_count": 44,
   "metadata": {
    "colab": {
     "base_uri": "https://localhost:8080/",
     "height": 1000
    },
    "colab_type": "code",
    "executionInfo": {
     "elapsed": 1594,
     "status": "ok",
     "timestamp": 1592278252807,
     "user": {
      "displayName": "周育德",
      "photoUrl": "",
      "userId": "03851540063312078708"
     },
     "user_tz": -480
    },
    "id": "dvkU0A6SLj_i",
    "outputId": "bb77abac-4dd1-4761-ff17-9c397f966b2b"
   },
   "outputs": [
    {
     "data": {
      "text/plain": [
       "Text(0.5, 212.07499999999993, 'Predicted label')"
      ]
     },
     "execution_count": 44,
     "metadata": {
      "tags": []
     },
     "output_type": "execute_result"
    },
    {
     "data": {
      "image/png": "[encoded data removed]",
      "text/plain": [
       "<Figure size 1440x1440 with 2 Axes>"
      ]
     },
     "metadata": {
      "needs_background": "light",
      "tags": []
     },
     "output_type": "display_data"
    }
   ],
   "source": [
    "# def plot_confusion_matrix(cm, class_names):\n",
    "figure = plt.figure(figsize=(20, 20)) ## 圖片大小\n",
    "plt.imshow(cm, interpolation='nearest', cmap=plt.cm.Blues)  ## 將 cm 矩陣畫出來\n",
    "plt.title(\"Confusion matrix\")\n",
    "plt.colorbar()\n",
    "tick_marks = np.arange(len(breed_category))\n",
    "plt.xticks(tick_marks, breed_category, rotation=90)\n",
    "plt.yticks(tick_marks, breed_category)\n",
    "\n",
    "\n",
    "cm = np.around(cm.astype('float') / cm.sum(axis=1)[:, np.newaxis], decimals=2)\n",
    "\n",
    "\n",
    "# threshold = cm.max() / 2.  ## 設定文字顏色閥值\n",
    "# for i in range(cm.shape[0]):\n",
    "#   for j in range(cm.shape[1]):\n",
    "#     color = \"white\" if cm[i, j] > threshold else \"black\"  ## 藉由閥值判斷使用白色或黑色字\n",
    "#     plt.text(j, i, cm[i, j], horizontalalignment=\"center\", color=color)\n",
    "\n",
    "plt.tight_layout()\n",
    "plt.ylabel('True label')\n",
    "plt.xlabel('Predicted label')\n",
    "\n",
    "# figure.savefig('Confunsion matrix.png', dpi=300)  # 存圖"
   ]
  },
  {
   "cell_type": "markdown",
   "metadata": {
    "colab_type": "text",
    "id": "QeZafAB8LxFi"
   },
   "source": [
    "# Download File"
   ]
  },
  {
   "cell_type": "code",
   "execution_count": 0,
   "metadata": {
    "colab": {},
    "colab_type": "code",
    "id": "FPzSpDBuLwgB"
   },
   "outputs": [],
   "source": [
    "from google.colab import files\n",
    "\n",
    "files.download('Confunsion matrix.png')"
   ]
  }
 ],
 "metadata": {
  "accelerator": "GPU",
  "colab": {
   "collapsed_sections": [],
   "name": "flower.ipynb",
   "provenance": [],
   "toc_visible": true
  },
  "kernelspec": {
   "display_name": "Python 3",
   "language": "python",
   "name": "python3"
  },
  "language_info": {
   "codemirror_mode": {
    "name": "ipython",
    "version": 3
   },
   "file_extension": ".py",
   "mimetype": "text/x-python",
   "name": "python",
   "nbconvert_exporter": "python",
   "pygments_lexer": "ipython3",
   "version": "3.7.9"
  },
  "widgets": {
   "application/vnd.jupyter.widget-state+json": {
    "7700236f4ed74a48999cf835b460e31e": {
     "model_module": "@jupyter-widgets/controls",
     "model_name": "DescriptionStyleModel",
     "state": {
      "_model_module": "@jupyter-widgets/controls",
      "_model_module_version": "1.5.0",
      "_model_name": "DescriptionStyleModel",
      "_view_count": null,
      "_view_module": "@jupyter-widgets/base",
      "_view_module_version": "1.2.0",
      "_view_name": "StyleView",
      "description_width": ""
     }
    },
    "79f1b08cbfb440efbffa17c80eea56d9": {
     "model_module": "@jupyter-widgets/controls",
     "model_name": "ProgressStyleModel",
     "state": {
      "_model_module": "@jupyter-widgets/controls",
      "_model_module_version": "1.5.0",
      "_model_name": "ProgressStyleModel",
      "_view_count": null,
      "_view_module": "@jupyter-widgets/base",
      "_view_module_version": "1.2.0",
      "_view_name": "StyleView",
      "bar_color": null,
      "description_width": "initial"
     }
    },
    "93196e4bb5344b33beaa465b5a51bf5e": {
     "model_module": "@jupyter-widgets/controls",
     "model_name": "HTMLModel",
     "state": {
      "_dom_classes": [],
      "_model_module": "@jupyter-widgets/controls",
      "_model_module_version": "1.5.0",
      "_model_name": "HTMLModel",
      "_view_count": null,
      "_view_module": "@jupyter-widgets/controls",
      "_view_module_version": "1.5.0",
      "_view_name": "HTMLView",
      "description": "",
      "description_tooltip": null,
      "layout": "IPY_MODEL_fb61266b0c864c3383c5e9ec7d9f48b0",
      "placeholder": "​",
      "style": "IPY_MODEL_7700236f4ed74a48999cf835b460e31e",
      "value": " 5/5 [00:05&lt;00:00,  1.11s/ file]"
     }
    },
    "9650b36331c840ba96e98f49fc465603": {
     "model_module": "@jupyter-widgets/controls",
     "model_name": "HBoxModel",
     "state": {
      "_dom_classes": [],
      "_model_module": "@jupyter-widgets/controls",
      "_model_module_version": "1.5.0",
      "_model_name": "HBoxModel",
      "_view_count": null,
      "_view_module": "@jupyter-widgets/controls",
      "_view_module_version": "1.5.0",
      "_view_name": "HBoxView",
      "box_style": "",
      "children": [
       "IPY_MODEL_9757960ad7454a20bc9f32c821a5d88a",
       "IPY_MODEL_93196e4bb5344b33beaa465b5a51bf5e"
      ],
      "layout": "IPY_MODEL_e579c551d9af4031a903203f764b83aa"
     }
    },
    "9757960ad7454a20bc9f32c821a5d88a": {
     "model_module": "@jupyter-widgets/controls",
     "model_name": "FloatProgressModel",
     "state": {
      "_dom_classes": [],
      "_model_module": "@jupyter-widgets/controls",
      "_model_module_version": "1.5.0",
      "_model_name": "FloatProgressModel",
      "_view_count": null,
      "_view_module": "@jupyter-widgets/controls",
      "_view_module_version": "1.5.0",
      "_view_name": "ProgressView",
      "bar_style": "success",
      "description": "Dl Completed...: 100%",
      "description_tooltip": null,
      "layout": "IPY_MODEL_d2814ebfe9594367b238894a2ae1d9b9",
      "max": 5,
      "min": 0,
      "orientation": "horizontal",
      "style": "IPY_MODEL_79f1b08cbfb440efbffa17c80eea56d9",
      "value": 5
     }
    },
    "d2814ebfe9594367b238894a2ae1d9b9": {
     "model_module": "@jupyter-widgets/base",
     "model_name": "LayoutModel",
     "state": {
      "_model_module": "@jupyter-widgets/base",
      "_model_module_version": "1.2.0",
      "_model_name": "LayoutModel",
      "_view_count": null,
      "_view_module": "@jupyter-widgets/base",
      "_view_module_version": "1.2.0",
      "_view_name": "LayoutView",
      "align_content": null,
      "align_items": null,
      "align_self": null,
      "border": null,
      "bottom": null,
      "display": null,
      "flex": null,
      "flex_flow": null,
      "grid_area": null,
      "grid_auto_columns": null,
      "grid_auto_flow": null,
      "grid_auto_rows": null,
      "grid_column": null,
      "grid_gap": null,
      "grid_row": null,
      "grid_template_areas": null,
      "grid_template_columns": null,
      "grid_template_rows": null,
      "height": null,
      "justify_content": null,
      "justify_items": null,
      "left": null,
      "margin": null,
      "max_height": null,
      "max_width": null,
      "min_height": null,
      "min_width": null,
      "object_fit": null,
      "object_position": null,
      "order": null,
      "overflow": null,
      "overflow_x": null,
      "overflow_y": null,
      "padding": null,
      "right": null,
      "top": null,
      "visibility": null,
      "width": null
     }
    },
    "e579c551d9af4031a903203f764b83aa": {
     "model_module": "@jupyter-widgets/base",
     "model_name": "LayoutModel",
     "state": {
      "_model_module": "@jupyter-widgets/base",
      "_model_module_version": "1.2.0",
      "_model_name": "LayoutModel",
      "_view_count": null,
      "_view_module": "@jupyter-widgets/base",
      "_view_module_version": "1.2.0",
      "_view_name": "LayoutView",
      "align_content": null,
      "align_items": null,
      "align_self": null,
      "border": null,
      "bottom": null,
      "display": null,
      "flex": null,
      "flex_flow": null,
      "grid_area": null,
      "grid_auto_columns": null,
      "grid_auto_flow": null,
      "grid_auto_rows": null,
      "grid_column": null,
      "grid_gap": null,
      "grid_row": null,
      "grid_template_areas": null,
      "grid_template_columns": null,
      "grid_template_rows": null,
      "height": null,
      "justify_content": null,
      "justify_items": null,
      "left": null,
      "margin": null,
      "max_height": null,
      "max_width": null,
      "min_height": null,
      "min_width": null,
      "object_fit": null,
      "object_position": null,
      "order": null,
      "overflow": null,
      "overflow_x": null,
      "overflow_y": null,
      "padding": null,
      "right": null,
      "top": null,
      "visibility": null,
      "width": null
     }
    },
    "fb61266b0c864c3383c5e9ec7d9f48b0": {
     "model_module": "@jupyter-widgets/base",
     "model_name": "LayoutModel",
     "state": {
      "_model_module": "@jupyter-widgets/base",
      "_model_module_version": "1.2.0",
      "_model_name": "LayoutModel",
      "_view_count": null,
      "_view_module": "@jupyter-widgets/base",
      "_view_module_version": "1.2.0",
      "_view_name": "LayoutView",
      "align_content": null,
      "align_items": null,
      "align_self": null,
      "border": null,
      "bottom": null,
      "display": null,
      "flex": null,
      "flex_flow": null,
      "grid_area": null,
      "grid_auto_columns": null,
      "grid_auto_flow": null,
      "grid_auto_rows": null,
      "grid_column": null,
      "grid_gap": null,
      "grid_row": null,
      "grid_template_areas": null,
      "grid_template_columns": null,
      "grid_template_rows": null,
      "height": null,
      "justify_content": null,
      "justify_items": null,
      "left": null,
      "margin": null,
      "max_height": null,
      "max_width": null,
      "min_height": null,
      "min_width": null,
      "object_fit": null,
      "object_position": null,
      "order": null,
      "overflow": null,
      "overflow_x": null,
      "overflow_y": null,
      "padding": null,
      "right": null,
      "top": null,
      "visibility": null,
      "width": null
     }
    }
   }
  }
 },
 "nbformat": 4,
 "nbformat_minor": 1
}
