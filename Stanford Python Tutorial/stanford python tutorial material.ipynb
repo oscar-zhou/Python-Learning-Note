{
 "cells": [
  {
   "cell_type": "code",
   "execution_count": 1,
   "metadata": {},
   "outputs": [
    {
     "name": "stdout",
     "output_type": "stream",
     "text": [
      "[1, 1, 2, 3, 6, 8, 10]\n"
     ]
    }
   ],
   "source": [
    "def quicksort(arr):\n",
    "    if len(arr) <= 1:\n",
    "        return arr\n",
    "    pivot = arr[len(arr) // 2]\n",
    "    left = [x for x in arr if x < pivot]\n",
    "    middle = [x for x in arr if x == pivot]\n",
    "    right = [x for x in arr if x > pivot]\n",
    "    return quicksort(left) + middle + quicksort(right)\n",
    "\n",
    "print(quicksort([3,6,8,10,1,2,1]))"
   ]
  },
  {
   "cell_type": "code",
   "execution_count": 10,
   "metadata": {},
   "outputs": [
    {
     "name": "stdout",
     "output_type": "stream",
     "text": [
      "<class 'int'>\n",
      "3\n",
      "4\n",
      "4\n",
      "6\n",
      "9\n",
      "4\n",
      "8\n",
      "<class 'float'>\n"
     ]
    }
   ],
   "source": [
    "x = 3\n",
    "print(type(x))\n",
    "print(x)\n",
    "print(x + 1)\n",
    "print(x+1)\n",
    "print(x*2)\n",
    "print(x**2)\n",
    "x += 1\n",
    "print(x)\n",
    "x *= 2\n",
    "print(x)\n",
    "x = 0.25\n",
    "print(type(x))"
   ]
  },
  {
   "cell_type": "code",
   "execution_count": 49,
   "metadata": {},
   "outputs": [
    {
     "name": "stdout",
     "output_type": "stream",
     "text": [
      "<class 'bool'>\n",
      "False\n",
      "True\n",
      "True\n",
      "True\n"
     ]
    }
   ],
   "source": [
    "t = True\n",
    "f = False\n",
    "print(type(t))\n",
    "print(t and f) # Logical AND; prints \"False\"\n",
    "print(t or f) # Logical OR; prints \"True\"\n",
    "print(not f)# Logical NOT; prints \"False\"\n",
    "print(t != f)# Logical XOR; prints \"True\""
   ]
  },
  {
   "cell_type": "code",
   "execution_count": 18,
   "metadata": {},
   "outputs": [
    {
     "name": "stdout",
     "output_type": "stream",
     "text": [
      "5\n",
      "oscar loves u\n",
      "oscar loves u 12\n"
     ]
    }
   ],
   "source": [
    "a = \"oscar\"\n",
    "b = 'loves u'\n",
    "print(len(a))\n",
    "hw = a + ' ' + b # String concatenation\n",
    "print(hw)\n",
    "hw12 = '%s %s %d' % (a, b, 12) # sprintf style string formatting\n",
    "print(hw12)"
   ]
  },
  {
   "cell_type": "code",
   "execution_count": 32,
   "metadata": {},
   "outputs": [
    {
     "name": "stdout",
     "output_type": "stream",
     "text": [
      "   oscar\n",
      "   OSCAR\n",
      "   oscar\n",
      "               oscar\n",
      "         oscar      \n",
      "   OOOOOscar\n",
      "oscar\n"
     ]
    }
   ],
   "source": [
    "s = \"   oscar\"\n",
    "print(s.capitalize())\n",
    "print(s.upper())\n",
    "print(s.lower())\n",
    "print(s.rjust(20)) # Right-justify a string, padding with spaces; prints \"  oscar\"\n",
    "print(s.center(20))\n",
    "print(s.replace('o', 'OOOOO'))\n",
    "print(s.strip()) # Strip leading and trailing whitespace; prints \"oscar\""
   ]
  },
  {
   "cell_type": "code",
   "execution_count": 43,
   "metadata": {},
   "outputs": [
    {
     "name": "stdout",
     "output_type": "stream",
     "text": [
      "[1, 2, 3, 4, 5, 6, 7] 7\n",
      "7\n",
      "6\n",
      "[1, 2, 'foo', 4, 5, 6, 7]\n",
      "[1, 2, 'foo', 4, 5, 6, 7, 'd']\n",
      "d [1, 2, 'foo', 4, 5, 6, 7]\n",
      "7 [1, 2, 'foo', 4, 5, 6]\n"
     ]
    }
   ],
   "source": [
    "xs = [1, 2, 3, 4, 5, 6, 7]  # Create a list\n",
    "print(xs, xs[6])\n",
    "print(xs[-1]) # Negative indices count from the end of the list; prints \"2\"\n",
    "print(xs[-2])\n",
    "xs[2] = \"foo\" # Lists can contain elements of different types\n",
    "print(xs)\n",
    "xs.append('d') # Add a new element to the end of the list\n",
    "print(xs)\n",
    "x = xs.pop() # Remove and return the last element of the list\n",
    "print(x, xs)\n",
    "x = xs.pop()\n",
    "print(x, xs)"
   ]
  },
  {
   "cell_type": "code",
   "execution_count": 10,
   "metadata": {},
   "outputs": [
    {
     "name": "stdout",
     "output_type": "stream",
     "text": [
      "[0, 1, 2, 3, 4, 5, 6, 7, 8, 9, 10]\n",
      "[6, 7, 8]\n",
      "[7, 8, 9, 10]\n",
      "[0, 1, 2, 3, 4, 5, 6]\n",
      "[0, 1, 2, 3, 4, 5, 6, 7, 8, 9, 10]\n",
      "[0, 1, 2, 3, 4, 5, 6, 7, 8]\n",
      "[0, 1, 11, 12, 8, 9, 10]\n"
     ]
    }
   ],
   "source": [
    "nums =list(range(11))\n",
    "print(nums)\n",
    "print(nums[6:9]) # Get a slice from index 2 to 4 (exclusive); prints \"[6, 7, 8]\"\n",
    "print(nums[7:]) # Get a slice from index 2 to the end; prints \"[7, 8, 9, 10]\"\n",
    "print(nums[:7]) # Get a slice from the start to index 2 (exclusive); prints \"[0, 1, 2, 3, 4, 5, 6]\"\n",
    "print(nums[:]) # Get a slice of the whole list; prints \"[0, 1, 2, 3, 4, 5, 6, 7, 8, 9, 10]\"\n",
    "print(nums[:-2]) # Slice indices can be negative; prints \"[0, 1, 2, 3, 4, 5, 6, 7, 8]\"\n",
    "nums[2:8] = [11, 12] # Assign a new sublist to a slice\n",
    "print(nums)  # Prints \"[0, 1, 8, 9, 4]\""
   ]
  },
  {
   "cell_type": "code",
   "execution_count": 15,
   "metadata": {},
   "outputs": [
    {
     "name": "stdout",
     "output_type": "stream",
     "text": [
      "cats\n",
      "dogs\n",
      "car\n",
      "os\n"
     ]
    }
   ],
   "source": [
    "animals = [\"cats\", 'dogs']\n",
    "for animal in animals:\n",
    "    print(animal)\n",
    "person = ['car', \"os\"]\n",
    "for animal in person:\n",
    "    print(animal)"
   ]
  },
  {
   "cell_type": "code",
   "execution_count": 24,
   "metadata": {},
   "outputs": [
    {
     "name": "stdout",
     "output_type": "stream",
     "text": [
      "#1: cats\n",
      "#2: dogs\n",
      "#3: bears\n",
      "#4: birds\n"
     ]
    }
   ],
   "source": [
    "animals = ['cats', \"dogs\", 'bears', \"birds\"]\n",
    "for idx, animal in enumerate(animals):\n",
    "    print('#%d: %s' % (idx + 1, animal))"
   ]
  },
  {
   "cell_type": "code",
   "execution_count": 4,
   "metadata": {},
   "outputs": [
    {
     "name": "stdout",
     "output_type": "stream",
     "text": [
      "[0, 1, 2, 3, 4, 5]\n",
      "[0, 1, 16, 81, 256, 625]\n"
     ]
    }
   ],
   "source": [
    "nums = list(range(6))\n",
    "print(nums)\n",
    "squares = []\n",
    "for x in nums :\n",
    "    squares.append(x ** 4)\n",
    "print(squares)"
   ]
  },
  {
   "cell_type": "code",
   "execution_count": 8,
   "metadata": {},
   "outputs": [
    {
     "name": "stdout",
     "output_type": "stream",
     "text": [
      "[0, 1, 2, 3, 4, 5, 6]\n",
      "[0, 1, 4, 9, 16, 25, 36]\n",
      "[0, 1, 8, 27, 64, 125, 216]\n"
     ]
    }
   ],
   "source": [
    "nums = list(range(7))\n",
    "print(nums)\n",
    "squares = [x ** 2 for x in nums]\n",
    "print(squares)\n",
    "squares = [x ** 3 for x in nums]\n",
    "print(squares)"
   ]
  },
  {
   "cell_type": "code",
   "execution_count": 14,
   "metadata": {},
   "outputs": [
    {
     "name": "stdout",
     "output_type": "stream",
     "text": [
      "[0, 1, 2, 3, 4, 5, 6, 7, 8, 9]\n",
      "[0, 4, 16, 36, 64]\n",
      "[0, 8, 64, 216, 512]\n"
     ]
    }
   ],
   "source": [
    "nums = list(range(10))\n",
    "print(nums)\n",
    "even_squares = [x ** 2 for x in nums if x % 2 == 0]\n",
    "print(even_squares)\n",
    "even_squares = [x ** 3 for x in nums if x % 2 == 0]\n",
    "print(even_squares)"
   ]
  },
  {
   "cell_type": "code",
   "execution_count": 11,
   "metadata": {},
   "outputs": [
    {
     "name": "stdout",
     "output_type": "stream",
     "text": [
      "fluffy\n",
      "True\n",
      "False\n",
      "wet\n",
      "{'cat': 'fluffy', 'dog': 'furry', 'fish': 'wet'}\n",
      "N/A\n",
      "furry\n",
      "wet\n",
      "{'cat': 'fluffy', 'dog': 'furry'}\n",
      "N/A\n"
     ]
    }
   ],
   "source": [
    "d = {\"cat\" : \"fluffy\", \"dog\" : \"furry\"} # Create a new dictionary with some data\n",
    "print(d[\"cat\"]) # Get an entry from a dictionary; prints \"cat\"\n",
    "print(\"cat\" in d) # Check if a dictionary has a given key; prints \"True\"\n",
    "print(\"bird\" in d)\n",
    "d[\"fish\"] = \"wet\" # Set an entry in a dictionary\n",
    "print(d[\"fish\"])\n",
    "print(d)\n",
    "print(d.get(\"monkey\", \"N/A\")) # Get an element with a default; prints \"N/A\"\n",
    "print(d.get('dog', 'N/A')) # Get an element with a default; prints \"wet\"\n",
    "print(d.get(\"fish\", \"N/A\"))\n",
    "del d[\"fish\"] # Remove an element from a dictionary\n",
    "print(d)\n",
    "print(d.get(\"fish\", \"N/A\"))\n"
   ]
  },
  {
   "cell_type": "code",
   "execution_count": 1,
   "metadata": {
    "scrolled": true
   },
   "outputs": [
    {
     "name": "stdout",
     "output_type": "stream",
     "text": [
      "A cat has 4 legs\n",
      "A human has 2 legs\n",
      "A spider has 8 legs\n",
      "A fish has 0 legs\n"
     ]
    }
   ],
   "source": [
    "d = {'cat': 4, 'human': 2, 'spider': 8, 'fish': 0}\n",
    "for animal in d:\n",
    "    legs = d[animal]\n",
    "    print('A %s has %d legs' % (animal, legs))\n"
   ]
  },
  {
   "cell_type": "code",
   "execution_count": 27,
   "metadata": {},
   "outputs": [
    {
     "name": "stdout",
     "output_type": "stream",
     "text": [
      "A cat has 4 legs\n",
      "A human has 2 legs\n",
      "A spider has 8 legs\n",
      "A fish has 0 legs\n"
     ]
    }
   ],
   "source": [
    "d = {'cat': 4, 'human': 2, 'spider': 8, 'fish': 0}\n",
    "for animal, legs in d.items():\n",
    "    print('A %s has %d legs' % (animal, legs))"
   ]
  },
  {
   "cell_type": "code",
   "execution_count": 32,
   "metadata": {},
   "outputs": [
    {
     "name": "stdout",
     "output_type": "stream",
     "text": [
      "[0, 1, 2, 3, 4]\n",
      "{0: 0, 2: 4, 4: 16}\n",
      "{0: 0, 2: 8, 4: 64}\n"
     ]
    }
   ],
   "source": [
    "nums = list(range(5))\n",
    "print(nums)\n",
    "even_num_to_square = {x: x ** 2 for x in nums if x % 2 == 0}\n",
    "print(even_num_to_square)\n",
    "even_num_to_square = {x: x ** 3 for x in nums if x % 2 == 0}\n",
    "print(even_num_to_square)"
   ]
  },
  {
   "cell_type": "code",
   "execution_count": 15,
   "metadata": {},
   "outputs": [
    {
     "name": "stdout",
     "output_type": "stream",
     "text": [
      "True\n",
      "False\n",
      "{'bear', 'birds', 'cats', 'fishes', 'dogs'}\n",
      "{'birds', 'cats', 'fishes', 'dogs'}\n",
      "4\n",
      "5\n",
      "4\n",
      "{'birds', 'cats', 'fishes', 'dogs'}\n"
     ]
    }
   ],
   "source": [
    "animals = {'cats', 'dogs', 'fishes', 'birds'}\n",
    "print('cats' in animals)  # Check if an element is in a set; prints \"True\"\n",
    "print('bears' in animals)\n",
    "animals.add('bear')  # Add an element to a set\n",
    "print(animals)\n",
    "animals.remove('bear')\n",
    "print(animals)\n",
    "print(len(animals)) # Number of elements in a set; prints \"4\"\n",
    "animals.add('insect')\n",
    "print(len(animals))\n",
    "animals.remove('insect') # Remove an element from a set\n",
    "print(len(animals))\n",
    "print(animals)"
   ]
  },
  {
   "cell_type": "code",
   "execution_count": 17,
   "metadata": {},
   "outputs": [
    {
     "name": "stdout",
     "output_type": "stream",
     "text": [
      "#1 cat\n",
      "#2 bird\n",
      "#3 dog\n",
      "#4 bear\n"
     ]
    }
   ],
   "source": [
    "animals = {'cat', 'dog', 'bear', 'bird'}\n",
    "for idx, animal in enumerate(animals):\n",
    "    print('#%d %s' % (idx + 1, animal))\n",
    "    "
   ]
  },
  {
   "cell_type": "code",
   "execution_count": 29,
   "metadata": {},
   "outputs": [
    {
     "name": "stdout",
     "output_type": "stream",
     "text": [
      "{0, 1}\n",
      "{0, 1, 2}\n",
      "{0, 1, 2, 3, 4}\n",
      "{0, 1, 2, 3, 4, 5, 6, 7, 8, 9, 10}\n"
     ]
    }
   ],
   "source": [
    "from math import sqrt\n",
    "nums = {int(sqrt(x)) for x in range(2)}\n",
    "print(nums)\n",
    "nums = {int(sqrt(x)) for x in range(5)}\n",
    "print(nums)\n",
    "nums = {int(sqrt(x)) for x in range(17)}\n",
    "print(nums)\n",
    "nums = {int(sqrt(x)) for x in range(101)}\n",
    "print(nums)"
   ]
  },
  {
   "cell_type": "code",
   "execution_count": 33,
   "metadata": {},
   "outputs": [
    {
     "name": "stdout",
     "output_type": "stream",
     "text": [
      "{(0, 1): 0, (1, 2): 1, (2, 3): 2, (3, 4): 3, (4, 5): 4, (5, 6): 5, (6, 7): 6, (7, 8): 7, (8, 9): 8, (9, 10): 9}\n",
      "<class 'tuple'>\n",
      "5\n",
      "1\n"
     ]
    }
   ],
   "source": [
    "d = {(x, x+1): x for x in range(10)} # Create a dictionary with tuple keys\n",
    "print(d) # Create a tuple\n",
    "t = (5, 6)\n",
    "print(type(t))\n",
    "print(d[t])\n",
    "print(d[1, 2])"
   ]
  },
  {
   "cell_type": "code",
   "execution_count": 39,
   "metadata": {},
   "outputs": [
    {
     "name": "stdout",
     "output_type": "stream",
     "text": [
      "negative\n",
      "positive\n",
      "zero\n"
     ]
    }
   ],
   "source": [
    "def sign(x):\n",
    "    if x > 0:\n",
    "        return 'positive'\n",
    "    elif  x < 0:\n",
    "        return 'negative'\n",
    "    else :\n",
    "        return 'zero'\n",
    "for x in [-1, 1, 0]:\n",
    "    print(sign(x))"
   ]
  },
  {
   "cell_type": "code",
   "execution_count": 43,
   "metadata": {},
   "outputs": [
    {
     "name": "stdout",
     "output_type": "stream",
     "text": [
      "Hello, Oscar\n",
      "Hello, OSCAR!\n"
     ]
    }
   ],
   "source": [
    "def hello(name, loud=False):\n",
    "    if loud:\n",
    "        print('Hello, %s!' % name.upper())\n",
    "    else:\n",
    "        print('Hello, %s' % name)\n",
    "hello('Oscar')\n",
    "hello('Oscar','loud')"
   ]
  },
  {
   "cell_type": "code",
   "execution_count": 47,
   "metadata": {},
   "outputs": [
    {
     "ename": "AttributeError",
     "evalue": "'Greeter' object has no attribute 'greet'",
     "output_type": "error",
     "traceback": [
      "\u001b[0;31m---------------------------------------------------------------------------\u001b[0m",
      "\u001b[0;31mAttributeError\u001b[0m                            Traceback (most recent call last)",
      "\u001b[0;32m<ipython-input-47-d2778d1cc511>\u001b[0m in \u001b[0;36m<module>\u001b[0;34m\u001b[0m\n\u001b[1;32m     10\u001b[0m         \u001b[0mprint\u001b[0m\u001b[0;34m(\u001b[0m\u001b[0;34m'Hello, %s'\u001b[0m \u001b[0;34m%\u001b[0m \u001b[0mself\u001b[0m\u001b[0;34m.\u001b[0m\u001b[0mname\u001b[0m\u001b[0;34m)\u001b[0m\u001b[0;34m\u001b[0m\u001b[0;34m\u001b[0m\u001b[0m\n\u001b[1;32m     11\u001b[0m \u001b[0mg\u001b[0m \u001b[0;34m=\u001b[0m \u001b[0mGreeter\u001b[0m\u001b[0;34m(\u001b[0m\u001b[0;34m'oscar'\u001b[0m\u001b[0;34m)\u001b[0m \u001b[0;31m# Construct an instance of the Greeter class\u001b[0m\u001b[0;34m\u001b[0m\u001b[0;34m\u001b[0m\u001b[0m\n\u001b[0;32m---> 12\u001b[0;31m \u001b[0mg\u001b[0m\u001b[0;34m.\u001b[0m\u001b[0mgreet\u001b[0m\u001b[0;34m(\u001b[0m\u001b[0;34m)\u001b[0m \u001b[0;31m# Call an instance method; prints \"Hello, oscar\"\u001b[0m\u001b[0;34m\u001b[0m\u001b[0;34m\u001b[0m\u001b[0m\n\u001b[0m\u001b[1;32m     13\u001b[0m \u001b[0mg\u001b[0m\u001b[0;34m.\u001b[0m\u001b[0mgreet\u001b[0m\u001b[0;34m(\u001b[0m\u001b[0mloud\u001b[0m\u001b[0;34m=\u001b[0m\u001b[0;32mTrue\u001b[0m\u001b[0;34m)\u001b[0m\u001b[0;34m\u001b[0m\u001b[0;34m\u001b[0m\u001b[0m\n",
      "\u001b[0;31mAttributeError\u001b[0m: 'Greeter' object has no attribute 'greet'"
     ]
    }
   ],
   "source": [
    "class Greeter(object):\n",
    "    #Constructor\n",
    "    def __init__(self, name):\n",
    "        self.name = name #Create an instance variable\n",
    "# Instance method\n",
    "def greet(self, loud=False):\n",
    "    if loud:\n",
    "        print('HELLO, %s!' % self.name.upper())\n",
    "    else:\n",
    "        print('Hello, %s' % self.name)\n",
    "g = Greeter('oscar') # Construct an instance of the Greeter class\n",
    "g.greet() # Call an instance method; prints \"Hello, oscar\"\n",
    "g.greet(loud=True)"
   ]
  },
  {
   "cell_type": "code",
   "execution_count": null,
   "metadata": {},
   "outputs": [],
   "source": []
  }
 ],
 "metadata": {
  "kernelspec": {
   "display_name": "Python 3",
   "language": "python",
   "name": "python3"
  },
  "language_info": {
   "codemirror_mode": {
    "name": "ipython",
    "version": 3
   },
   "file_extension": ".py",
   "mimetype": "text/x-python",
   "name": "python",
   "nbconvert_exporter": "python",
   "pygments_lexer": "ipython3",
   "version": "3.7.9"
  }
 },
 "nbformat": 4,
 "nbformat_minor": 4
}
