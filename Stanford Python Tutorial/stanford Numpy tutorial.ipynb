{
 "cells": [
  {
   "cell_type": "code",
   "execution_count": 2,
   "metadata": {},
   "outputs": [
    {
     "name": "stdout",
     "output_type": "stream",
     "text": [
      "<class 'numpy.ndarray'>\n",
      "(4,)\n",
      "1 2 3 4\n",
      "[5 2 3 4]\n",
      "(3, 3)\n",
      "3 8 5\n",
      "[[1 2 3]\n",
      " [4 5 6]\n",
      " [7 8 9]]\n"
     ]
    }
   ],
   "source": [
    "import numpy as np\n",
    "\n",
    "a = np.array([1, 2, 3, 4]) # Create a rank 1 array\n",
    "print(type(a))\n",
    "print(a.shape)\n",
    "print(a[0], a[1], a[2], a[3])\n",
    "a[0] = 5\n",
    "print(a)\n",
    "\n",
    "b = np.array([[1, 2, 3],[4, 5, 6],[7, 8, 9]])\n",
    "print(b.shape)\n",
    "print(b[0,2], b[2,1], b[1,1])\n",
    "print(b)"
   ]
  },
  {
   "cell_type": "code",
   "execution_count": 6,
   "metadata": {},
   "outputs": [
    {
     "name": "stdout",
     "output_type": "stream",
     "text": [
      "[[0. 0. 0.]\n",
      " [0. 0. 0.]\n",
      " [0. 0. 0.]]\n",
      "[[1. 1. 1.]\n",
      " [1. 1. 1.]]\n",
      "[[8 8 8 8]\n",
      " [8 8 8 8]\n",
      " [8 8 8 8]]\n",
      "[[1. 0. 0.]\n",
      " [0. 1. 0.]\n",
      " [0. 0. 1.]]\n",
      "[[0.03379549 0.14258704 0.84269939]\n",
      " [0.40541157 0.31100889 0.72288264]\n",
      " [0.12053305 0.64704481 0.50085501]]\n"
     ]
    }
   ],
   "source": [
    "import numpy as np\n",
    "a = np.zeros((3,3)) # Create an array of all zeros\n",
    "print(a)\n",
    "\n",
    "b = np.ones((2,3)) # Create an array of all ones\n",
    "print(b)\n",
    "\n",
    "c= np.full((3,4), 8) # Create a constant array\n",
    "print(c)\n",
    "\n",
    "d = np.eye(3,3) # Create a 2x2 identity matrix\n",
    "print(d)\n",
    "\n",
    "e = np.random.random((3,3))\n",
    "print(e)"
   ]
  },
  {
   "cell_type": "code",
   "execution_count": 32,
   "metadata": {},
   "outputs": [
    {
     "name": "stdout",
     "output_type": "stream",
     "text": [
      "[[  1   2   3 104]\n",
      " [  4   5   6 103]\n",
      " [  7   8   9 102]\n",
      " [ 10  11  12 101]\n",
      " [ 13  14  15 100]]\n",
      "[[  5   6 103]\n",
      " [  8   9 102]\n",
      " [ 11  12 101]\n",
      " [ 14  15 100]]\n",
      "[[1 2 3]\n",
      " [4 5 6]]\n",
      "[[  6 103]\n",
      " [  9 102]]\n",
      "102\n",
      "[[  1   2   3 104]\n",
      " [  4   5   6 103]\n",
      " [  7  50   9 102]\n",
      " [ 10  11  12 101]\n",
      " [ 13  14  15 100]]\n"
     ]
    }
   ],
   "source": [
    "import numpy as np\n",
    "a = np.array([[1, 2, 3, 104],[4, 5, 6, 103],[7, 8, 9, 102],[10, 11, 12, 101],[13, 14, 15, 100]])\n",
    "print(a)\n",
    "\n",
    "b = a[1:,1:] #留第一列、第一行之後\n",
    "print(b)\n",
    "b = a[:2,:3] #第二列之前、第三行之前\n",
    "print(b)\n",
    "b = a[1:3,2:4] #一到三列含第一列不含第三列、二到四行含第二不含第四行\n",
    "print(b)\n",
    "print(a[2,3])\n",
    "a[2,1] = 50\n",
    "print(a)"
   ]
  },
  {
   "cell_type": "code",
   "execution_count": 7,
   "metadata": {},
   "outputs": [
    {
     "name": "stdout",
     "output_type": "stream",
     "text": [
      "[[ 1  2  3]\n",
      " [ 4  5  6]\n",
      " [ 7  8  9]\n",
      " [10 11 12]]\n",
      "[4 5 6]\n",
      "[[4 5 6]]\n",
      "[4 5 6] (3,)\n",
      "[[4 5 6]] (1, 3)\n"
     ]
    }
   ],
   "source": [
    "import numpy as np\n",
    "a = np.array([[1, 2, 3],[4, 5, 6],[7, 8, 9],[10, 11, 12]])\n",
    "print(a)\n",
    "\n",
    "row_r1 = a[ 1, :] #第一列整行\n",
    "row_r2 = a[1:2, : ] #第一列到第二列不包含第二列\n",
    "print(row_r1)\n",
    "print(row_r2)\n",
    "\n",
    "print(row_r1, row_r1.shape)\n",
    "print(row_r2, row_r2.shape)"
   ]
  },
  {
   "cell_type": "code",
   "execution_count": 27,
   "metadata": {
    "scrolled": true
   },
   "outputs": [
    {
     "name": "stdout",
     "output_type": "stream",
     "text": [
      "[[1 2]\n",
      " [3 4]\n",
      " [5 6]]\n",
      "[1 4 5]\n",
      "[1 4 6]\n",
      "[1 4 5]\n",
      "[2 2]\n"
     ]
    }
   ],
   "source": [
    "import numpy as np\n",
    "a = np.array([[1,2], [3, 4], [5, 6]])\n",
    "print(a)\n",
    "\n",
    "print(a[[0, 1, 2], [0, 1, 0]])\n",
    "print(a[[0, 1, 2], [0, 1, 1]])\n",
    "print(np.array([a[0, 0], a[1, 1], a[2, 0]]))# The above example of integer array indexing is equivalent to this\n",
    "print(a[[0, 0], [1, 1]])\n",
    "print(np.array([a[0, 1], a[0, 1]]))# Equivalent to the previous integer array indexing example"
   ]
  },
  {
   "cell_type": "code",
   "execution_count": 6,
   "metadata": {
    "scrolled": true
   },
   "outputs": [
    {
     "name": "stdout",
     "output_type": "stream",
     "text": [
      "[[ 1  2  3  4]\n",
      " [ 5  6  7  8]\n",
      " [ 9 10 11 12]\n",
      " [13 14 15 16]]\n",
      "[ 1  6 12 15]\n",
      "[[101   2   3   4]\n",
      " [  5 106   7   8]\n",
      " [  9  10  11 112]\n",
      " [ 13  14 115  16]]\n"
     ]
    }
   ],
   "source": [
    "import numpy as np\n",
    "a = np.array([[1, 2, 3, 4],[5, 6, 7, 8],[9, 10, 11, 12],[13, 14, 15, 16]])\n",
    "print(a)\n",
    "\n",
    "b = np.array([0, 1, 3, 2]) # Create an array of indices\n",
    "print(a[np.arange(4), b])\n",
    "\n",
    "a[np.arange(4), b] += 100\n",
    "print(a)"
   ]
  },
  {
   "cell_type": "code",
   "execution_count": 12,
   "metadata": {},
   "outputs": [
    {
     "name": "stdout",
     "output_type": "stream",
     "text": [
      "[[1 2]\n",
      " [3 4]\n",
      " [5 6]]\n",
      "[[False False]\n",
      " [ True  True]\n",
      " [ True  True]]\n",
      "[3 4 5 6]\n"
     ]
    }
   ],
   "source": [
    "import numpy as np\n",
    "a = np.array([[1, 2],[3, 4],[5, 6]])\n",
    "print(a)\n",
    "\n",
    "bool_idx = (a >= 3)  # Find the elements of a that are bigger than 2;\n",
    "                     # this returns a numpy array of Booleans of the same\n",
    "                     # shape as a, where each slot of bool_idx tells\n",
    "                     # whether that element of a is > 2.\n",
    "print(bool_idx)\n",
    "print(a[a>=3]) # We can do all of the above in a single concise statement:\n"
   ]
  },
  {
   "cell_type": "code",
   "execution_count": 18,
   "metadata": {},
   "outputs": [
    {
     "name": "stdout",
     "output_type": "stream",
     "text": [
      "int64\n",
      "float64\n",
      "int64\n",
      "[1 2 3]\n"
     ]
    }
   ],
   "source": [
    "#DATATYPPES\n",
    "import numpy as np\n",
    "x = np.array([1, 2, 3])\n",
    "print(x.dtype)\n",
    "\n",
    "x = np.array([1.1, 2.2, 3.3])\n",
    "print(x.dtype)\n",
    "\n",
    "x = np.array([1.1, 2.2, 3.3], dtype = np.int64) #Force a particular datatype\n",
    "print(x.dtype)\n",
    "print(x)"
   ]
  },
  {
   "cell_type": "code",
   "execution_count": 32,
   "metadata": {},
   "outputs": [
    {
     "name": "stdout",
     "output_type": "stream",
     "text": [
      "[[1. 2. 3. 4.]\n",
      " [5. 6. 7. 8.]]\n",
      "[[10. 11. 12. 13.]\n",
      " [14. 15. 16. 17.]]\n",
      "[[11. 13. 15. 17.]\n",
      " [19. 21. 23. 25.]]\n",
      "[[11. 13. 15. 17.]\n",
      " [19. 21. 23. 25.]]\n",
      "[[-9. -9. -9. -9.]\n",
      " [-9. -9. -9. -9.]]\n",
      "[[-9. -9. -9. -9.]\n",
      " [-9. -9. -9. -9.]]\n",
      "[[ 10.  22.  36.  52.]\n",
      " [ 70.  90. 112. 136.]]\n",
      "[[ 10.  22.  36.  52.]\n",
      " [ 70.  90. 112. 136.]]\n",
      "[[0.1        0.18181818 0.25       0.30769231]\n",
      " [0.35714286 0.4        0.4375     0.47058824]]\n",
      "[[0.1        0.18181818 0.25       0.30769231]\n",
      " [0.35714286 0.4        0.4375     0.47058824]]\n",
      "[[1.         1.41421356 1.73205081 2.        ]\n",
      " [2.23606798 2.44948974 2.64575131 2.82842712]]\n",
      "[[ 1.  4.  9. 16.]\n",
      " [25. 36. 49. 64.]]\n",
      "[[ 1.  4.  9. 16.]\n",
      " [25. 36. 49. 64.]]\n",
      "[[  1.   8.  27.  64.]\n",
      " [125. 216. 343. 512.]]\n"
     ]
    }
   ],
   "source": [
    "#ARRAY MATH\n",
    "import numpy as np\n",
    "x = np.array([[1, 2, 3, 4],[5, 6, 7, 8]], dtype = np.float64)\n",
    "y = np.array([[10, 11, 12, 13],[14, 15, 16, 17]], dtype = np.float64)\n",
    "print(x)\n",
    "print(y)\n",
    "\n",
    "print(x+y) # Elementwise sum; both produce the array\n",
    "print(np.add(x, y)) # Elementwise sum; both produce the array\n",
    "\n",
    "print(x-y) # Elementwise difference; both produce the array\n",
    "print(np.subtract(x, y)) # Elementwise difference; both produce the array\n",
    "\n",
    "print(x*y) # Elementwise product; both produce the array\n",
    "print(np.multiply(x, y)) # Elementwise product; both produce the array\n",
    "\n",
    "print(x / y) # Elementwise division; both produce the array\n",
    "print(np.divide(x, y)) # Elementwise division; both produce the array\n",
    "\n",
    "print(np.sqrt(x))\n",
    "print(np.square(x))\n",
    "print(x ** 2)\n",
    "print(x ** 3)"
   ]
  },
  {
   "cell_type": "code",
   "execution_count": 38,
   "metadata": {},
   "outputs": [
    {
     "name": "stdout",
     "output_type": "stream",
     "text": [
      "[ 99 120]\n",
      "219\n",
      "219\n",
      "[29 67]\n",
      "[29 67]\n",
      "[[ 9 20]\n",
      " [27 40]]\n",
      "[[19 22]\n",
      " [43 50]]\n",
      "[[19 22]\n",
      " [43 50]]\n",
      "[[ 5 12]\n",
      " [21 32]]\n"
     ]
    }
   ],
   "source": [
    "import numpy as np\n",
    "\n",
    "x = np.array([[1,2],[3,4]])\n",
    "y = np.array([[5,6],[7,8]])\n",
    "\n",
    "v = np.array([9,10])\n",
    "w = np.array([11, 12])\n",
    "\n",
    "print(v*w)\n",
    "# Inner product of vectors; both produce 219\n",
    "print(v.dot(w))\n",
    "print(np.dot(v, w))\n",
    "\n",
    "# Matrix / vector product; both produce the rank 1 array [29 67]\n",
    "print(x.dot(v))\n",
    "print(np.dot(x, v))\n",
    "print(x*v)\n",
    "\n",
    "# Matrix / matrix product; both produce the rank 2 array\n",
    "print(x.dot(y))\n",
    "print(np.dot(x, y))\n",
    "print(x*y)"
   ]
  },
  {
   "cell_type": "code",
   "execution_count": 39,
   "metadata": {},
   "outputs": [
    {
     "name": "stdout",
     "output_type": "stream",
     "text": [
      "10\n",
      "[4 6]\n",
      "[3 7]\n"
     ]
    }
   ],
   "source": [
    "import numpy as np\n",
    "\n",
    "x = np.array([[1,2],[3,4]])\n",
    "\n",
    "print(np.sum(x))  # Compute sum of all elements; prints \"10\"\n",
    "print(np.sum(x, axis=0))  # Compute sum of each column; prints \"[4 6]\" 垂直軸\n",
    "print(np.sum(x, axis=1))  # Compute sum of each row; prints \"[3 7]\" 橫軸"
   ]
  },
  {
   "cell_type": "code",
   "execution_count": 41,
   "metadata": {},
   "outputs": [
    {
     "name": "stdout",
     "output_type": "stream",
     "text": [
      "[[1 2]\n",
      " [3 4]]\n",
      "[[1 3]\n",
      " [2 4]]\n",
      "[[1 2 3]\n",
      " [4 5 6]\n",
      " [7 8 9]]\n",
      "[[1 4 7]\n",
      " [2 5 8]\n",
      " [3 6 9]]\n",
      "[1 2 3]\n",
      "[1 2 3]\n"
     ]
    }
   ],
   "source": [
    "import numpy as np\n",
    "\n",
    "x = np.array([[1,2], [3,4]])\n",
    "print(x)    # Prints \"[[1 2]\n",
    "            #          [3 4]]\"\n",
    "print(x.T)  # Prints \"[[1 3]\n",
    "            #          [2 4]]\"\n",
    "y = np.array([[1, 2, 3],[4, 5, 6],[7, 8, 9]])\n",
    "print(y)\n",
    "print(y.T) #相反的矩陣\n",
    "\n",
    "# Note that taking the transpose of a rank 1 array does nothing:\n",
    "v = np.array([1,2,3])\n",
    "print(v)    # Prints \"[1 2 3]\"\n",
    "print(v.T)  # Prints \"[1 2 3]\""
   ]
  }
 ],
 "metadata": {
  "kernelspec": {
   "display_name": "Python 3",
   "language": "python",
   "name": "python3"
  },
  "language_info": {
   "codemirror_mode": {
    "name": "ipython",
    "version": 3
   },
   "file_extension": ".py",
   "mimetype": "text/x-python",
   "name": "python",
   "nbconvert_exporter": "python",
   "pygments_lexer": "ipython3",
   "version": "3.7.9"
  }
 },
 "nbformat": 4,
 "nbformat_minor": 4
}
