{
 "cells": [
  {
   "cell_type": "code",
   "execution_count": 6,
   "metadata": {},
   "outputs": [
    {
     "name": "stdout",
     "output_type": "stream",
     "text": [
      "0    0\n",
      "1    1\n",
      "2    2\n",
      "3    3\n",
      "4    4\n",
      "5    5\n",
      "6    6\n",
      "7    7\n",
      "8    8\n",
      "9    9\n",
      "dtype: int64\n",
      "0     1\n",
      "1     2\n",
      "2     3\n",
      "3     4\n",
      "4     5\n",
      "5     6\n",
      "6     7\n",
      "7     8\n",
      "8     9\n",
      "9    10\n",
      "dtype: int64\n"
     ]
    }
   ],
   "source": [
    "import pandas as pd\n",
    "a = pd.Series(range(10))\n",
    "b = pd.Series([1, 2, 3, 4, 5, 6, 7, 8, 9, 10])\n",
    "print(a)\n",
    "print(b)"
   ]
  },
  {
   "cell_type": "code",
   "execution_count": 11,
   "metadata": {},
   "outputs": [
    {
     "name": "stdout",
     "output_type": "stream",
     "text": [
      "A    4\n",
      "B    5\n",
      "C    6\n",
      "D    7\n",
      "E    8\n",
      "F    9\n",
      "dtype: int64\n",
      "B    5\n",
      "C    6\n",
      "D    7\n",
      "dtype: int64\n",
      "7\n"
     ]
    }
   ],
   "source": [
    "import pandas as pd\n",
    "a = pd.Series([4, 5, 6, 7, 8, 9], index=('A','B','C','D','E','F'))\n",
    "print(a)\n",
    "print(a[1:4]) #not including 4\n",
    "print(a['D'])"
   ]
  },
  {
   "cell_type": "code",
   "execution_count": 1,
   "metadata": {
    "scrolled": true
   },
   "outputs": [
    {
     "name": "stdout",
     "output_type": "stream",
     "text": [
      "  name               email  grades\n",
      "0  王小郭       min@gmail.com      60\n",
      "1  張小華    hchang@gmail.com      77\n",
      "2  廖丁丁  laioding@gmail.com      92\n",
      "3  丁小光  hsulight@gmail.com      43\n",
      "  name               email  grades\n",
      "A  王小郭       min@gmail.com      60\n",
      "B  張小華    hchang@gmail.com      77\n",
      "C  廖丁丁  laioding@gmail.com      92\n",
      "D  丁小光  hsulight@gmail.com      43\n",
      "<class 'pandas.core.frame.DataFrame'>\n",
      "Index: 4 entries, A to D\n",
      "Data columns (total 3 columns):\n",
      " #   Column  Non-Null Count  Dtype \n",
      "---  ------  --------------  ----- \n",
      " 0   name    4 non-null      object\n",
      " 1   email   4 non-null      object\n",
      " 2   grades  4 non-null      int64 \n",
      "dtypes: int64(1), object(2)\n",
      "memory usage: 128.0+ bytes\n",
      "None\n",
      "          grades\n",
      "count   4.000000\n",
      "mean   68.000000\n",
      "std    21.181753\n",
      "min    43.000000\n",
      "25%    55.750000\n",
      "50%    68.500000\n",
      "75%    80.750000\n",
      "max    92.000000\n",
      "Index(['A', 'B', 'C', 'D'], dtype='object')\n",
      "Index(['name', 'email', 'grades'], dtype='object')\n",
      "  name               email  grades\n",
      "A  王小郭       min@gmail.com      60\n",
      "B  張小華    hchang@gmail.com      77\n",
      "C  廖丁丁  laioding@gmail.com      92\n",
      "  name               email  grades\n",
      "B  張小華    hchang@gmail.com      77\n",
      "C  廖丁丁  laioding@gmail.com      92\n",
      "D  丁小光  hsulight@gmail.com      43\n"
     ]
    }
   ],
   "source": [
    "# 引入 pandas 套件，使用別名 pd 可以少打字\n",
    "import pandas as pd\n",
    "\n",
    "# 準備傳入 \n",
    "data = {\n",
    "    'name': ['王小郭', '張小華', '廖丁丁', '丁小光'],\n",
    "    'email': ['min@gmail.com', 'hchang@gmail.com', 'laioding@gmail.com', 'hsulight@gmail.com'],\n",
    "    'grades': [60, 77, 92, 43]\n",
    "}\n",
    "\n",
    "\n",
    "# 建立 DataFrame 物件\n",
    "student_df = pd.DataFrame(data)\n",
    "\n",
    "print(student_df)\n",
    "\n",
    "student_df = pd.DataFrame(data, index=('A','B','C','D'))\n",
    "print(student_df)\n",
    "\n",
    "# 列出欄位資料型別等資訊\n",
    "print(student_df.info())\n",
    "# 列出統計資訊\n",
    "print(student_df.describe())\n",
    "# 列出 DataFrame 的 index/columns\n",
    "print(student_df.index)\n",
    "print(student_df.columns)\n",
    "# 印出頭尾指定幾筆資料\n",
    "print(student_df.head(3))\n",
    "print(student_df.tail(3))"
   ]
  },
  {
   "cell_type": "code",
   "execution_count": 5,
   "metadata": {},
   "outputs": [
    {
     "name": "stdout",
     "output_type": "stream",
     "text": [
      "  name               email  grades\n",
      "0  王小郭       min@gmail.com      60\n",
      "1  張小華    hchang@gmail.com      77\n",
      "2  廖丁丁  laioding@gmail.com      92\n",
      "3  丁小光  hsulight@gmail.com      43\n",
      "  name               email\n",
      "0  王小郭       min@gmail.com\n",
      "1  張小華    hchang@gmail.com\n",
      "2  廖丁丁  laioding@gmail.com\n",
      "3  丁小光  hsulight@gmail.com\n"
     ]
    }
   ],
   "source": [
    "# 引入 pandas 套件，使用別名 pd 可以少打字\n",
    "import pandas as pd\n",
    "\n",
    "# 準備傳入 DataFrame 的資料\n",
    "data_1 = {\n",
    "    'name': ['王小郭', '張小華', '廖丁丁', '丁小光'],\n",
    "    'email': ['min@gmail.com', 'hchang@gmail.com', 'laioding@gmail.com', 'hsulight@gmail.com'],\n",
    "    'grades': [60, 77, 92, 43]\n",
    "}\n",
    "\n",
    "\n",
    "# 建立 DataFrame 物件\n",
    "student_df_1 = pd.DataFrame(data_1)\n",
    "print(student_df_1)\n",
    "# 使用 drop 指定欄位，記得要給定 axis=1 為欄。若 axis=0 為代表列\n",
    "student_df_1 = student_df_1.drop(['grades'], axis=1)\n",
    "print(student_df_1)"
   ]
  },
  {
   "cell_type": "code",
   "execution_count": 13,
   "metadata": {},
   "outputs": [
    {
     "name": "stdout",
     "output_type": "stream",
     "text": [
      "     A    B   C  D\n",
      "0  NaN  2.0 NaN  0\n",
      "1  3.0  4.0 NaN  1\n",
      "2  NaN  NaN NaN  5\n",
      "3  NaN  3.0 NaN  4\n"
     ]
    }
   ],
   "source": [
    "# 引入 pandas 套件，使用別名 pd 可以少打字\n",
    "import pandas as pd\n",
    "import numpy as np\n",
    "\n",
    "df = pd.DataFrame([[np.nan, 2, np.nan, 0],\n",
    "                   [3, 4, np.nan, 1],\n",
    "                   [np.nan, np.nan, np.nan, 5],\n",
    "                   [np.nan, 3, np.nan, 4]],\n",
    "                  columns=list('ABCD'))\n",
    "print(df)"
   ]
  },
  {
   "cell_type": "code",
   "execution_count": 15,
   "metadata": {},
   "outputs": [
    {
     "data": {
      "text/html": [
       "<div>\n",
       "<style scoped>\n",
       "    .dataframe tbody tr th:only-of-type {\n",
       "        vertical-align: middle;\n",
       "    }\n",
       "\n",
       "    .dataframe tbody tr th {\n",
       "        vertical-align: top;\n",
       "    }\n",
       "\n",
       "    .dataframe thead th {\n",
       "        text-align: right;\n",
       "    }\n",
       "</style>\n",
       "<table border=\"1\" class=\"dataframe\">\n",
       "  <thead>\n",
       "    <tr style=\"text-align: right;\">\n",
       "      <th></th>\n",
       "      <th>A</th>\n",
       "      <th>B</th>\n",
       "      <th>C</th>\n",
       "      <th>D</th>\n",
       "    </tr>\n",
       "  </thead>\n",
       "  <tbody>\n",
       "    <tr>\n",
       "      <th>0</th>\n",
       "      <td>0.0</td>\n",
       "      <td>2.0</td>\n",
       "      <td>0.0</td>\n",
       "      <td>0</td>\n",
       "    </tr>\n",
       "    <tr>\n",
       "      <th>1</th>\n",
       "      <td>3.0</td>\n",
       "      <td>4.0</td>\n",
       "      <td>0.0</td>\n",
       "      <td>1</td>\n",
       "    </tr>\n",
       "    <tr>\n",
       "      <th>2</th>\n",
       "      <td>0.0</td>\n",
       "      <td>0.0</td>\n",
       "      <td>0.0</td>\n",
       "      <td>5</td>\n",
       "    </tr>\n",
       "    <tr>\n",
       "      <th>3</th>\n",
       "      <td>0.0</td>\n",
       "      <td>3.0</td>\n",
       "      <td>0.0</td>\n",
       "      <td>4</td>\n",
       "    </tr>\n",
       "  </tbody>\n",
       "</table>\n",
       "</div>"
      ],
      "text/plain": [
       "     A    B    C  D\n",
       "0  0.0  2.0  0.0  0\n",
       "1  3.0  4.0  0.0  1\n",
       "2  0.0  0.0  0.0  5\n",
       "3  0.0  3.0  0.0  4"
      ]
     },
     "execution_count": 15,
     "metadata": {},
     "output_type": "execute_result"
    }
   ],
   "source": [
    "df.fillna(0)"
   ]
  },
  {
   "cell_type": "code",
   "execution_count": 17,
   "metadata": {},
   "outputs": [
    {
     "name": "stdout",
     "output_type": "stream",
     "text": [
      "  name               email  grades\n",
      "0  王小郭       min@gmail.com      60\n",
      "1  張小華    hchang@gmail.com      77\n",
      "2  廖丁丁  laioding@gmail.com      92\n",
      "3  丁小光  hsulight@gmail.com      43\n",
      "  name         email  grades\n",
      "0  黃明明  ww@gmail.com      70\n",
      "1  汪新新  cc@gmail.com      17\n",
      "2  鮑呱呱  bb@gmail.com      32\n",
      "3  江組組  ee@gmail.com      43\n"
     ]
    }
   ],
   "source": [
    "# 引入 pandas 套件，使用別名 pd 可以少打字\n",
    "import pandas as pd\n",
    "\n",
    "# 準備傳入 DataFrame 的資料\n",
    "data_1 = {\n",
    "    'name': ['王小郭', '張小華', '廖丁丁', '丁小光'],\n",
    "    'email': ['min@gmail.com', 'hchang@gmail.com', 'laioding@gmail.com', 'hsulight@gmail.com'],\n",
    "    'grades': [60, 77, 92, 43]\n",
    "}\n",
    "\n",
    "data_2 = {\n",
    "    'name': ['黃明明', '汪新新', '鮑呱呱', '江組組'],\n",
    "    'email': ['ww@gmail.com', 'cc@gmail.com', 'bb@gmail.com', 'ee@gmail.com'],\n",
    "    'grades': [70, 17, 32, 43]\n",
    "}\n",
    "\n",
    "# 建立 DataFrame 物件\n",
    "student_df_1 = pd.DataFrame(data_1)\n",
    "student_df_2 = pd.DataFrame(data_2)\n",
    "\n",
    "print(student_df_1)\n",
    "print(student_df_2)"
   ]
  },
  {
   "cell_type": "code",
   "execution_count": 19,
   "metadata": {},
   "outputs": [
    {
     "name": "stdout",
     "output_type": "stream",
     "text": [
      "  name               email  grades\n",
      "0  王小郭       min@gmail.com      60\n",
      "1  張小華    hchang@gmail.com      77\n",
      "2  廖丁丁  laioding@gmail.com      92\n",
      "3  丁小光  hsulight@gmail.com      43\n",
      "0  黃明明        ww@gmail.com      70\n",
      "1  汪新新        cc@gmail.com      17\n",
      "2  鮑呱呱        bb@gmail.com      32\n",
      "3  江組組        ee@gmail.com      43\n"
     ]
    }
   ],
   "source": [
    "student_fg_3 = pd.concat([student_df_1, student_df_2]) #rows \n",
    "\n",
    "print(student_fg_3)"
   ]
  },
  {
   "cell_type": "code",
   "execution_count": 29,
   "metadata": {},
   "outputs": [
    {
     "name": "stdout",
     "output_type": "stream",
     "text": [
      "  name               email  grades   age\n",
      "0  王小郭       min@gmail.com    60.0   NaN\n",
      "1  張小華    hchang@gmail.com    77.0   NaN\n",
      "2  廖丁丁  laioding@gmail.com    92.0   NaN\n",
      "3  丁小光  hsulight@gmail.com    43.0   NaN\n",
      "4  王小郭                 NaN     NaN  19.0\n",
      "5  張小華                 NaN     NaN  20.0\n",
      "6  廖丁丁                 NaN     NaN  32.0\n",
      "7  丁小光                 NaN     NaN  43.0\n",
      "None\n"
     ]
    }
   ],
   "source": [
    "student_fg_3 = pd.concat([student_df_1, student_df_2], ignore_index=True)#index重新排列\n",
    "print(student_fg_3)\n",
    "print(student_fg_3.to_csv('student_demo0.csv'))"
   ]
  },
  {
   "cell_type": "code",
   "execution_count": 23,
   "metadata": {},
   "outputs": [
    {
     "name": "stdout",
     "output_type": "stream",
     "text": [
      "  name               email  grades\n",
      "0  王小郭       min@gmail.com      60\n",
      "1  張小華    hchang@gmail.com      77\n",
      "2  廖丁丁  laioding@gmail.com      92\n",
      "3  丁小光  hsulight@gmail.com      43\n",
      "  name  age\n",
      "0  王小郭   19\n",
      "1  張小華   20\n",
      "2  廖丁丁   32\n",
      "3  丁小光   43\n"
     ]
    }
   ],
   "source": [
    "# 引入 pandas 套件，使用別名 pd 可以少打字\n",
    "import pandas as pd\n",
    "\n",
    "# 準備傳入 DataFrame 的資料\n",
    "data_1 = {\n",
    "    'name': ['王小郭', '張小華', '廖丁丁', '丁小光'],\n",
    "    'email': ['min@gmail.com', 'hchang@gmail.com', 'laioding@gmail.com', 'hsulight@gmail.com'],\n",
    "    'grades': [60, 77, 92, 43]\n",
    "}\n",
    "\n",
    "data_2 = {\n",
    "    'name': ['王小郭', '張小華', '廖丁丁', '丁小光'],\n",
    "    'age': [19, 20, 32, 43]\n",
    "}\n",
    "\n",
    "# 建立 DataFrame 物件\n",
    "student_df_1 = pd.DataFrame(data_1)\n",
    "student_df_2 = pd.DataFrame(data_2)\n",
    "\n",
    "print(student_df_1)\n",
    "print(student_df_2)"
   ]
  },
  {
   "cell_type": "code",
   "execution_count": 28,
   "metadata": {},
   "outputs": [
    {
     "name": "stdout",
     "output_type": "stream",
     "text": [
      "  name               email  grades  age\n",
      "0  王小郭       min@gmail.com      60   19\n",
      "1  張小華    hchang@gmail.com      77   20\n",
      "2  廖丁丁  laioding@gmail.com      92   32\n",
      "3  丁小光  hsulight@gmail.com      43   43\n",
      "None\n"
     ]
    }
   ],
   "source": [
    "student_fg_3 = pd.merge(student_df_1, student_df_2) #columns\n",
    "\n",
    "print(student_fg_3)\n",
    "# 將 DataFrame 轉成 CSV 檔案\n",
    "print(student_fg_3.to_csv('student_demo1.csv'))"
   ]
  },
  {
   "cell_type": "code",
   "execution_count": null,
   "metadata": {},
   "outputs": [],
   "source": []
  }
 ],
 "metadata": {
  "kernelspec": {
   "display_name": "Python 3",
   "language": "python",
   "name": "python3"
  },
  "language_info": {
   "codemirror_mode": {
    "name": "ipython",
    "version": 3
   },
   "file_extension": ".py",
   "mimetype": "text/x-python",
   "name": "python",
   "nbconvert_exporter": "python",
   "pygments_lexer": "ipython3",
   "version": "3.7.9"
  }
 },
 "nbformat": 4,
 "nbformat_minor": 4
}
